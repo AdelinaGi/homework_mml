{
 "cells": [
  {
   "cell_type": "code",
   "execution_count": 84,
   "id": "bab42d69",
   "metadata": {},
   "outputs": [],
   "source": [
    "import pandas as pd\n",
    "import numpy as np"
   ]
  },
  {
   "cell_type": "code",
   "execution_count": 85,
   "id": "bf023f5b",
   "metadata": {},
   "outputs": [],
   "source": [
    "df = pd.read_csv('city_united.csv', sep=',')"
   ]
  },
  {
   "cell_type": "code",
   "execution_count": 86,
   "id": "31107822",
   "metadata": {},
   "outputs": [
    {
     "data": {
      "text/html": [
       "<div>\n",
       "<style scoped>\n",
       "    .dataframe tbody tr th:only-of-type {\n",
       "        vertical-align: middle;\n",
       "    }\n",
       "\n",
       "    .dataframe tbody tr th {\n",
       "        vertical-align: top;\n",
       "    }\n",
       "\n",
       "    .dataframe thead th {\n",
       "        text-align: right;\n",
       "    }\n",
       "</style>\n",
       "<table border=\"1\" class=\"dataframe\">\n",
       "  <thead>\n",
       "    <tr style=\"text-align: right;\">\n",
       "      <th></th>\n",
       "      <th>UA_Name</th>\n",
       "      <th>UA_Country</th>\n",
       "      <th>UA_Continent</th>\n",
       "      <th>Housing</th>\n",
       "      <th>Cost of Living</th>\n",
       "      <th>Startups</th>\n",
       "      <th>Venture Capital</th>\n",
       "      <th>Travel Connectivity</th>\n",
       "      <th>Commute</th>\n",
       "      <th>Business Freedom</th>\n",
       "      <th>...</th>\n",
       "      <th>Healthcare</th>\n",
       "      <th>Education</th>\n",
       "      <th>Environmental Quality</th>\n",
       "      <th>Economy</th>\n",
       "      <th>Taxation</th>\n",
       "      <th>Internet Access</th>\n",
       "      <th>Leisure &amp; Culture</th>\n",
       "      <th>Tolerance</th>\n",
       "      <th>Outdoors</th>\n",
       "      <th>Quality of Life Index</th>\n",
       "    </tr>\n",
       "  </thead>\n",
       "  <tbody>\n",
       "    <tr>\n",
       "      <th>0</th>\n",
       "      <td>Adelaide</td>\n",
       "      <td>Australia</td>\n",
       "      <td>Oceania</td>\n",
       "      <td>6.3095</td>\n",
       "      <td>4.692</td>\n",
       "      <td>3.1365</td>\n",
       "      <td>2.640</td>\n",
       "      <td>1.7765</td>\n",
       "      <td>5.33625</td>\n",
       "      <td>9.399667</td>\n",
       "      <td>...</td>\n",
       "      <td>7.936667</td>\n",
       "      <td>5.1420</td>\n",
       "      <td>8.33075</td>\n",
       "      <td>6.0695</td>\n",
       "      <td>4.5885</td>\n",
       "      <td>4.3410</td>\n",
       "      <td>4.3285</td>\n",
       "      <td>7.8220</td>\n",
       "      <td>5.5310</td>\n",
       "      <td>200.03</td>\n",
       "    </tr>\n",
       "    <tr>\n",
       "      <th>1</th>\n",
       "      <td>Raleigh</td>\n",
       "      <td>North Carolina</td>\n",
       "      <td>North America</td>\n",
       "      <td>6.1285</td>\n",
       "      <td>5.610</td>\n",
       "      <td>5.4970</td>\n",
       "      <td>5.157</td>\n",
       "      <td>1.7570</td>\n",
       "      <td>4.78425</td>\n",
       "      <td>8.671000</td>\n",
       "      <td>...</td>\n",
       "      <td>6.677333</td>\n",
       "      <td>7.1165</td>\n",
       "      <td>8.58375</td>\n",
       "      <td>6.5145</td>\n",
       "      <td>4.0620</td>\n",
       "      <td>7.9515</td>\n",
       "      <td>6.6130</td>\n",
       "      <td>7.5620</td>\n",
       "      <td>3.3905</td>\n",
       "      <td>197.30</td>\n",
       "    </tr>\n",
       "    <tr>\n",
       "      <th>2</th>\n",
       "      <td>Zurich</td>\n",
       "      <td>Switzerland</td>\n",
       "      <td>Europe</td>\n",
       "      <td>1.4730</td>\n",
       "      <td>1.000</td>\n",
       "      <td>6.2035</td>\n",
       "      <td>3.872</td>\n",
       "      <td>7.7335</td>\n",
       "      <td>5.83950</td>\n",
       "      <td>8.888000</td>\n",
       "      <td>...</td>\n",
       "      <td>7.670333</td>\n",
       "      <td>7.2875</td>\n",
       "      <td>8.64300</td>\n",
       "      <td>6.5520</td>\n",
       "      <td>6.4285</td>\n",
       "      <td>7.2675</td>\n",
       "      <td>4.9655</td>\n",
       "      <td>8.7845</td>\n",
       "      <td>5.4010</td>\n",
       "      <td>194.41</td>\n",
       "    </tr>\n",
       "    <tr>\n",
       "      <th>3</th>\n",
       "      <td>Wellington</td>\n",
       "      <td>New Zealand</td>\n",
       "      <td>Oceania</td>\n",
       "      <td>5.1345</td>\n",
       "      <td>5.161</td>\n",
       "      <td>2.4715</td>\n",
       "      <td>1.753</td>\n",
       "      <td>0.8525</td>\n",
       "      <td>6.03975</td>\n",
       "      <td>10.000000</td>\n",
       "      <td>...</td>\n",
       "      <td>8.078333</td>\n",
       "      <td>4.7560</td>\n",
       "      <td>9.60925</td>\n",
       "      <td>5.5055</td>\n",
       "      <td>5.9315</td>\n",
       "      <td>5.1745</td>\n",
       "      <td>4.5990</td>\n",
       "      <td>8.1160</td>\n",
       "      <td>6.3970</td>\n",
       "      <td>193.89</td>\n",
       "    </tr>\n",
       "    <tr>\n",
       "      <th>4</th>\n",
       "      <td>Charlotte</td>\n",
       "      <td>North Carolina</td>\n",
       "      <td>North America</td>\n",
       "      <td>5.5490</td>\n",
       "      <td>4.987</td>\n",
       "      <td>6.2480</td>\n",
       "      <td>2.878</td>\n",
       "      <td>3.6790</td>\n",
       "      <td>4.13400</td>\n",
       "      <td>8.671000</td>\n",
       "      <td>...</td>\n",
       "      <td>6.432333</td>\n",
       "      <td>3.6245</td>\n",
       "      <td>8.00925</td>\n",
       "      <td>6.5145</td>\n",
       "      <td>4.0620</td>\n",
       "      <td>6.3870</td>\n",
       "      <td>5.6060</td>\n",
       "      <td>6.7895</td>\n",
       "      <td>1.3115</td>\n",
       "      <td>193.30</td>\n",
       "    </tr>\n",
       "  </tbody>\n",
       "</table>\n",
       "<p>5 rows × 21 columns</p>\n",
       "</div>"
      ],
      "text/plain": [
       "      UA_Name       UA_Country   UA_Continent  Housing  Cost of Living  \\\n",
       "0    Adelaide        Australia        Oceania   6.3095           4.692   \n",
       "1     Raleigh   North Carolina  North America   6.1285           5.610   \n",
       "2      Zurich      Switzerland         Europe   1.4730           1.000   \n",
       "3  Wellington      New Zealand        Oceania   5.1345           5.161   \n",
       "4   Charlotte   North Carolina  North America   5.5490           4.987   \n",
       "\n",
       "   Startups  Venture Capital  Travel Connectivity  Commute  Business Freedom  \\\n",
       "0    3.1365            2.640               1.7765  5.33625          9.399667   \n",
       "1    5.4970            5.157               1.7570  4.78425          8.671000   \n",
       "2    6.2035            3.872               7.7335  5.83950          8.888000   \n",
       "3    2.4715            1.753               0.8525  6.03975         10.000000   \n",
       "4    6.2480            2.878               3.6790  4.13400          8.671000   \n",
       "\n",
       "   ...  Healthcare  Education  Environmental Quality  Economy  Taxation  \\\n",
       "0  ...    7.936667     5.1420                8.33075   6.0695    4.5885   \n",
       "1  ...    6.677333     7.1165                8.58375   6.5145    4.0620   \n",
       "2  ...    7.670333     7.2875                8.64300   6.5520    6.4285   \n",
       "3  ...    8.078333     4.7560                9.60925   5.5055    5.9315   \n",
       "4  ...    6.432333     3.6245                8.00925   6.5145    4.0620   \n",
       "\n",
       "   Internet Access  Leisure & Culture  Tolerance  Outdoors  \\\n",
       "0           4.3410             4.3285     7.8220    5.5310   \n",
       "1           7.9515             6.6130     7.5620    3.3905   \n",
       "2           7.2675             4.9655     8.7845    5.4010   \n",
       "3           5.1745             4.5990     8.1160    6.3970   \n",
       "4           6.3870             5.6060     6.7895    1.3115   \n",
       "\n",
       "   Quality of Life Index  \n",
       "0                 200.03  \n",
       "1                 197.30  \n",
       "2                 194.41  \n",
       "3                 193.89  \n",
       "4                 193.30  \n",
       "\n",
       "[5 rows x 21 columns]"
      ]
     },
     "execution_count": 86,
     "metadata": {},
     "output_type": "execute_result"
    }
   ],
   "source": [
    "df.head()"
   ]
  },
  {
   "cell_type": "code",
   "execution_count": 87,
   "id": "23815879",
   "metadata": {},
   "outputs": [
    {
     "name": "stdout",
     "output_type": "stream",
     "text": [
      "<class 'pandas.core.frame.DataFrame'>\n",
      "RangeIndex: 187 entries, 0 to 186\n",
      "Data columns (total 21 columns):\n",
      " #   Column                 Non-Null Count  Dtype  \n",
      "---  ------                 --------------  -----  \n",
      " 0   UA_Name                187 non-null    object \n",
      " 1   UA_Country             187 non-null    object \n",
      " 2   UA_Continent           187 non-null    object \n",
      " 3   Housing                187 non-null    float64\n",
      " 4   Cost of Living         187 non-null    float64\n",
      " 5   Startups               187 non-null    float64\n",
      " 6   Venture Capital        187 non-null    float64\n",
      " 7   Travel Connectivity    187 non-null    float64\n",
      " 8   Commute                187 non-null    float64\n",
      " 9   Business Freedom       187 non-null    float64\n",
      " 10  Safety                 187 non-null    float64\n",
      " 11  Healthcare             187 non-null    float64\n",
      " 12  Education              187 non-null    float64\n",
      " 13  Environmental Quality  187 non-null    float64\n",
      " 14  Economy                187 non-null    float64\n",
      " 15  Taxation               187 non-null    float64\n",
      " 16  Internet Access        187 non-null    float64\n",
      " 17  Leisure & Culture      187 non-null    float64\n",
      " 18  Tolerance              187 non-null    float64\n",
      " 19  Outdoors               187 non-null    float64\n",
      " 20  Quality of Life Index  187 non-null    float64\n",
      "dtypes: float64(18), object(3)\n",
      "memory usage: 30.8+ KB\n"
     ]
    }
   ],
   "source": [
    "df.info()"
   ]
  },
  {
   "cell_type": "markdown",
   "id": "743f1946",
   "metadata": {},
   "source": [
    "Пустых ячеек нет, проверим на наличие дубикатов."
   ]
  },
  {
   "cell_type": "code",
   "execution_count": 88,
   "id": "dbe16a77",
   "metadata": {},
   "outputs": [
    {
     "data": {
      "text/plain": [
       "0"
      ]
     },
     "execution_count": 88,
     "metadata": {},
     "output_type": "execute_result"
    }
   ],
   "source": [
    "df.duplicated().sum()    # дубликатов нет"
   ]
  },
  {
   "cell_type": "markdown",
   "id": "243fb0cc",
   "metadata": {},
   "source": [
    "### 1. Определения факторов."
   ]
  },
  {
   "cell_type": "markdown",
   "id": "f99aed7d",
   "metadata": {},
   "source": [
    "Все факторы, кроме первых трех столбцов являются количественными. Проверим на наличие выбросов в них и нормализуем данные."
   ]
  },
  {
   "cell_type": "code",
   "execution_count": 89,
   "id": "79ad94cc",
   "metadata": {},
   "outputs": [],
   "source": [
    "import seaborn as sns"
   ]
  },
  {
   "cell_type": "code",
   "execution_count": 90,
   "id": "471e4727",
   "metadata": {},
   "outputs": [
    {
     "data": {
      "text/plain": [
       "<AxesSubplot:>"
      ]
     },
     "execution_count": 90,
     "metadata": {},
     "output_type": "execute_result"
    },
    {
     "data": {
      "image/png": "[encoded data removed]",
      "text/plain": [
       "<Figure size 640x480 with 1 Axes>"
      ]
     },
     "metadata": {},
     "output_type": "display_data"
    }
   ],
   "source": [
    "sns.boxplot(data=df[df.columns[:-1]])"
   ]
  },
  {
   "cell_type": "code",
   "execution_count": 91,
   "id": "5425b496",
   "metadata": {},
   "outputs": [],
   "source": [
    "x = df[df.columns[3:-1]].copy()\n",
    "y = df[df.columns[-1]].copy()"
   ]
  },
  {
   "cell_type": "code",
   "execution_count": 92,
   "id": "d85781cf",
   "metadata": {},
   "outputs": [],
   "source": [
    "x_c = list(x.columns)"
   ]
  },
  {
   "cell_type": "code",
   "execution_count": 93,
   "id": "ac422e13",
   "metadata": {},
   "outputs": [],
   "source": [
    "# имеются выбросы удалим их по межквартильному размаху:\n",
    "for c in x_c:\n",
    "    q3 = df[c].describe()['75%']    # 75-ая квантиль\n",
    "    q1 = df[c].describe()['25%']    # 25-ая квантиль\n",
    "    iqr = q3-q1    # длина промежутка\n",
    "    iqr_min = q1 - 1.5 * iqr    # нижняя граница\n",
    "    iqr_max = q3 + 1.5 * iqr    # верхняя граница\n",
    "    df = df[(iqr_min <= df[c]) & (df[c] <= iqr_max)]    # перезаписываем датасет без выбросов"
   ]
  },
  {
   "cell_type": "code",
   "execution_count": 94,
   "id": "5c79786d",
   "metadata": {},
   "outputs": [
    {
     "data": {
      "text/plain": [
       "<AxesSubplot:>"
      ]
     },
     "execution_count": 94,
     "metadata": {},
     "output_type": "execute_result"
    },
    {
     "data": {
      "image/png": "[encoded data removed]",
      "text/plain": [
       "<Figure size 640x480 with 1 Axes>"
      ]
     },
     "metadata": {},
     "output_type": "display_data"
    }
   ],
   "source": [
    "sns.boxplot(data=df[df.columns[:-1]])"
   ]
  },
  {
   "cell_type": "markdown",
   "id": "47698d53",
   "metadata": {},
   "source": [
    "Было удалено 53 строки, выбросок стало визуально меньше."
   ]
  },
  {
   "cell_type": "code",
   "execution_count": 95,
   "id": "13677119",
   "metadata": {},
   "outputs": [],
   "source": [
    "# стандартизируем данные с факторами:\n",
    "from sklearn.preprocessing import StandardScaler"
   ]
  },
  {
   "cell_type": "code",
   "execution_count": 96,
   "id": "639cefe7",
   "metadata": {},
   "outputs": [],
   "source": [
    "scaler = StandardScaler()\n",
    "x_st = scaler.fit_transform(x)"
   ]
  },
  {
   "cell_type": "code",
   "execution_count": 97,
   "id": "a0135a8d",
   "metadata": {},
   "outputs": [
    {
     "data": {
      "text/plain": [
       "<AxesSubplot:ylabel='Count'>"
      ]
     },
     "execution_count": 97,
     "metadata": {},
     "output_type": "execute_result"
    },
    {
     "data": {
      "image/png": "[encoded data removed]",
      "text/plain": [
       "<Figure size 640x480 with 1 Axes>"
      ]
     },
     "metadata": {},
     "output_type": "display_data"
    }
   ],
   "source": [
    "sns.histplot(x_st)"
   ]
  },
  {
   "cell_type": "code",
   "execution_count": 98,
   "id": "6316f29b",
   "metadata": {},
   "outputs": [],
   "source": [
    "# разделим выборку на тестовую и тренировочную:\n",
    "from sklearn.model_selection import train_test_split"
   ]
  },
  {
   "cell_type": "code",
   "execution_count": 99,
   "id": "73557995",
   "metadata": {},
   "outputs": [],
   "source": [
    "x_train, x_test, y_train, y_test = train_test_split(x_st, y, test_size=0.2, random_state=40)"
   ]
  },
  {
   "cell_type": "markdown",
   "id": "32d8f798",
   "metadata": {},
   "source": [
    "### 2. Построение моделей."
   ]
  },
  {
   "cell_type": "code",
   "execution_count": 100,
   "id": "b01d9902",
   "metadata": {},
   "outputs": [],
   "source": [
    "from sklearn.linear_model import LinearRegression\n",
    "from sklearn.metrics import r2_score"
   ]
  },
  {
   "cell_type": "markdown",
   "id": "f1c08561",
   "metadata": {},
   "source": [
    "Линейная"
   ]
  },
  {
   "cell_type": "code",
   "execution_count": 101,
   "id": "a60a4b7a",
   "metadata": {},
   "outputs": [
    {
     "name": "stdout",
     "output_type": "stream",
     "text": [
      "Коэффициент детерминации (R^2): 0.804244823358635\n"
     ]
    }
   ],
   "source": [
    "lin_model = LinearRegression()\n",
    "# переменные были определены выше:\n",
    "lin_model.fit(x_train, y_train)\n",
    "y_pred = lin_model.predict(x_test)\n",
    "r2_lin = r2_score(y_test, y_pred)\n",
    "print(\"Коэффициент детерминации (R^2):\", r2_lin)"
   ]
  },
  {
   "cell_type": "markdown",
   "id": "a3ee947b",
   "metadata": {},
   "source": [
    "Гипербола"
   ]
  },
  {
   "cell_type": "code",
   "execution_count": 102,
   "id": "7b0f4afc",
   "metadata": {},
   "outputs": [
    {
     "name": "stdout",
     "output_type": "stream",
     "text": [
      "Коэффициент детерминации (R^2): -0.42305175881595725\n"
     ]
    }
   ],
   "source": [
    "hip_model = LinearRegression()\n",
    "x_hip = 1 / x_st    # независимые переменные\n",
    "# зависимая переменная остается такой же\n",
    "x_train, x_test, y_train, y_test = train_test_split(x_hip, y, test_size=0.2, random_state=40)\n",
    "hip_model.fit(x_train, y_train)\n",
    "y_pred = hip_model.predict(x_test)\n",
    "r2_hip = r2_score(y_test, y_pred)\n",
    "print(\"Коэффициент детерминации (R^2):\", r2_hip)"
   ]
  },
  {
   "cell_type": "markdown",
   "id": "18971da4",
   "metadata": {},
   "source": [
    "Полулогарифмическую модель построить не получится, так как при стандартизации получились отрицательные значения \"иксов\", удалив которые мы значительно уменьшим объем выборки."
   ]
  },
  {
   "cell_type": "markdown",
   "id": "10686762",
   "metadata": {},
   "source": [
    "Покаталеьная"
   ]
  },
  {
   "cell_type": "code",
   "execution_count": 103,
   "id": "12e13668",
   "metadata": {},
   "outputs": [
    {
     "data": {
      "text/plain": [
       "0"
      ]
     },
     "execution_count": 103,
     "metadata": {},
     "output_type": "execute_result"
    }
   ],
   "source": [
    "(y < 0).sum()"
   ]
  },
  {
   "cell_type": "code",
   "execution_count": 104,
   "id": "5f50f64d",
   "metadata": {},
   "outputs": [
    {
     "name": "stdout",
     "output_type": "stream",
     "text": [
      "Коэффициент детерминации (R^2): 0.7186525678786387\n"
     ]
    }
   ],
   "source": [
    "pok_model = LinearRegression()\n",
    "x_pok = x_st    # независимые переменные\n",
    "y_pok = np.log(y)    # зависимая переменная\n",
    "x_train, x_test, y_train, y_test = train_test_split(x_pok, y_pok, test_size=0.2, random_state=40)\n",
    "pok_model.fit(x_train, y_train)\n",
    "y_pred = pok_model.predict(x_test)\n",
    "r2_pok = r2_score(y_test, y_pred)\n",
    "print(\"Коэффициент детерминации (R^2):\", r2_pok)"
   ]
  },
  {
   "cell_type": "markdown",
   "id": "4a35836b",
   "metadata": {},
   "source": [
    "Степенную модель так же не удастся построить из-за отрицательности некоторых значений, невозможно вычислить их логарифм."
   ]
  },
  {
   "cell_type": "markdown",
   "id": "6e518a63",
   "metadata": {},
   "source": [
    "Парабола"
   ]
  },
  {
   "cell_type": "code",
   "execution_count": 115,
   "id": "7567d0a6",
   "metadata": {},
   "outputs": [
    {
     "name": "stdout",
     "output_type": "stream",
     "text": [
      "Коэффициент детерминации (R^2): 0.8097770472392614\n"
     ]
    }
   ],
   "source": [
    "x_p = x_st ** 2\n",
    "x_par = np.array(np.concatenate((x_st, x_p), axis=1)) # независимые переменные\n",
    "par_model = LinearRegression()\n",
    "y_par = y    # зависимая переменная\n",
    "x_train, x_test, y_train, y_test = train_test_split(x_par, y_par, test_size=0.2, random_state=40)\n",
    "pok_model.fit(x_train, y_train)\n",
    "y_pred = pok_model.predict(x_test)\n",
    "r2_par = r2_score(y_test, y_pred)\n",
    "print(\"Коэффициент детерминации (R^2):\", r2_par)"
   ]
  },
  {
   "cell_type": "markdown",
   "id": "f51ab457",
   "metadata": {},
   "source": [
    "Итак, самый высокий коэффициент детерминации у параболической модели, соответсвенно булем считать ее лучшей.\n",
    "Параболическая модель в общем виде выглядит следующим образом:\n",
    "\n",
    "y = b0 * x_1 + ... + bn * x_n + c1 * x_1 ^ 2 + ... + cn * x_n ^ 2 + E, где \n",
    "Е - случайная ошибка"
   ]
  }
 ],
 "metadata": {
  "kernelspec": {
   "display_name": "Python 3 (ipykernel)",
   "language": "python",
   "name": "python3"
  },
  "language_info": {
   "codemirror_mode": {
    "name": "ipython",
    "version": 3
   },
   "file_extension": ".py",
   "mimetype": "text/x-python",
   "name": "python",
   "nbconvert_exporter": "python",
   "pygments_lexer": "ipython3",
   "version": "3.9.13"
  }
 },
 "nbformat": 4,
 "nbformat_minor": 5
}
