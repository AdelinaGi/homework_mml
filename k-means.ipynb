{
 "cells": [
  {
   "cell_type": "code",
   "execution_count": 18,
   "id": "c539339f",
   "metadata": {},
   "outputs": [],
   "source": [
    "import random\n",
    "import numpy as np\n",
    "import pandas as pd\n",
    "import seaborn as sns\n",
    "import matplotlib.pyplot as plt"
   ]
  },
  {
   "cell_type": "code",
   "execution_count": 32,
   "id": "9b7b33df",
   "metadata": {},
   "outputs": [],
   "source": [
    "y = np.random.normal(size=30).reshape(30, 1)\n",
    "x = np.array(range(1, 31)).reshape(30, 1)\n",
    "coord = np.concatenate((x, y), axis=1)"
   ]
  },
  {
   "cell_type": "code",
   "execution_count": 33,
   "id": "2b029381",
   "metadata": {},
   "outputs": [
    {
     "data": {
      "text/plain": [
       "<AxesSubplot:>"
      ]
     },
     "execution_count": 33,
     "metadata": {},
     "output_type": "execute_result"
    },
    {
     "data": {
      "image/png": "[encoded data removed]",
      "text/plain": [
       "<Figure size 640x480 with 1 Axes>"
      ]
     },
     "metadata": {},
     "output_type": "display_data"
    }
   ],
   "source": [
    "sns.scatterplot(x=x.reshape(1, 30)[0], y=y.reshape(1, 30)[0])"
   ]
  },
  {
   "cell_type": "code",
   "execution_count": 43,
   "id": "616b9783",
   "metadata": {},
   "outputs": [
    {
     "name": "stdout",
     "output_type": "stream",
     "text": [
      "Выберите число кластеров: 3\n"
     ]
    }
   ],
   "source": [
    "k = int(input('Выберите число кластеров: '))"
   ]
  },
  {
   "cell_type": "code",
   "execution_count": 44,
   "id": "364f5080",
   "metadata": {
    "scrolled": true
   },
   "outputs": [
    {
     "name": "stderr",
     "output_type": "stream",
     "text": [
      "C:\\Users\\Win10\\AppData\\Local\\Temp\\ipykernel_15980\\1313122701.py:25: RuntimeWarning: invalid value encountered in double_scalars\n",
      "  a = ((coord[i][0] - new_centroids[j][0]) ** 2 + (coord[i][1] - new_centroids[j][1])) ** 0.5\n",
      "C:\\Users\\Win10\\AppData\\Local\\Temp\\ipykernel_15980\\1313122701.py:10: RuntimeWarning: invalid value encountered in double_scalars\n",
      "  a = ((coord[i][0] - centroids[j][0]) ** 2 + (coord[i][1] - centroids[j][1])) ** 0.5\n"
     ]
    }
   ],
   "source": [
    "centroids = []\n",
    "for i in range(k):\n",
    "    centroids.append(coord[random.randrange(coord.shape[0])])\n",
    "\n",
    "while True:\n",
    "    cluster = []\n",
    "    for i in range(coord.shape[0]):\n",
    "        d = {}\n",
    "        for j in range(k):\n",
    "            a = ((coord[i][0] - centroids[j][0]) ** 2 + (coord[i][1] - centroids[j][1])) ** 0.5\n",
    "            d[a] = j\n",
    "            c = d[min(d)]\n",
    "        cluster.append(c)\n",
    "    df = pd.DataFrame({'x': coord[:, 0], 'y': coord[:, 1], 'cluster': cluster})\n",
    "    \n",
    "    new_centroids = []\n",
    "    for i in range(k):\n",
    "        data = df[df['cluster'] == i]\n",
    "        new_centroids.append(np.array([data['x'].mean(), data['y'].mean()]))\n",
    "    \n",
    "    new_cluster = []\n",
    "    for i in range(coord.shape[0]):\n",
    "        d = {}\n",
    "        for j in range(k):\n",
    "            a = ((coord[i][0] - new_centroids[j][0]) ** 2 + (coord[i][1] - new_centroids[j][1])) ** 0.5\n",
    "            d[a] = j\n",
    "            c = d[min(d)]\n",
    "        new_cluster.append(c)\n",
    "    \n",
    "    if cluster == new_cluster:\n",
    "        break\n",
    "    \n",
    "    centroids = new_centroids"
   ]
  },
  {
   "cell_type": "code",
   "execution_count": 45,
   "id": "1e0d5ee5",
   "metadata": {},
   "outputs": [
    {
     "data": {
      "text/html": [
       "<div>\n",
       "<style scoped>\n",
       "    .dataframe tbody tr th:only-of-type {\n",
       "        vertical-align: middle;\n",
       "    }\n",
       "\n",
       "    .dataframe tbody tr th {\n",
       "        vertical-align: top;\n",
       "    }\n",
       "\n",
       "    .dataframe thead th {\n",
       "        text-align: right;\n",
       "    }\n",
       "</style>\n",
       "<table border=\"1\" class=\"dataframe\">\n",
       "  <thead>\n",
       "    <tr style=\"text-align: right;\">\n",
       "      <th></th>\n",
       "      <th>x</th>\n",
       "      <th>y</th>\n",
       "      <th>cluster</th>\n",
       "    </tr>\n",
       "  </thead>\n",
       "  <tbody>\n",
       "    <tr>\n",
       "      <th>0</th>\n",
       "      <td>1.0</td>\n",
       "      <td>0.260428</td>\n",
       "      <td>2</td>\n",
       "    </tr>\n",
       "    <tr>\n",
       "      <th>1</th>\n",
       "      <td>2.0</td>\n",
       "      <td>0.253547</td>\n",
       "      <td>2</td>\n",
       "    </tr>\n",
       "    <tr>\n",
       "      <th>2</th>\n",
       "      <td>3.0</td>\n",
       "      <td>0.517322</td>\n",
       "      <td>2</td>\n",
       "    </tr>\n",
       "    <tr>\n",
       "      <th>3</th>\n",
       "      <td>4.0</td>\n",
       "      <td>-1.642199</td>\n",
       "      <td>2</td>\n",
       "    </tr>\n",
       "    <tr>\n",
       "      <th>4</th>\n",
       "      <td>5.0</td>\n",
       "      <td>1.047089</td>\n",
       "      <td>2</td>\n",
       "    </tr>\n",
       "    <tr>\n",
       "      <th>5</th>\n",
       "      <td>6.0</td>\n",
       "      <td>-1.081321</td>\n",
       "      <td>1</td>\n",
       "    </tr>\n",
       "    <tr>\n",
       "      <th>6</th>\n",
       "      <td>7.0</td>\n",
       "      <td>0.608539</td>\n",
       "      <td>2</td>\n",
       "    </tr>\n",
       "    <tr>\n",
       "      <th>7</th>\n",
       "      <td>8.0</td>\n",
       "      <td>-0.093113</td>\n",
       "      <td>2</td>\n",
       "    </tr>\n",
       "    <tr>\n",
       "      <th>8</th>\n",
       "      <td>9.0</td>\n",
       "      <td>-0.293941</td>\n",
       "      <td>2</td>\n",
       "    </tr>\n",
       "    <tr>\n",
       "      <th>9</th>\n",
       "      <td>10.0</td>\n",
       "      <td>-1.020031</td>\n",
       "      <td>1</td>\n",
       "    </tr>\n",
       "    <tr>\n",
       "      <th>10</th>\n",
       "      <td>11.0</td>\n",
       "      <td>0.911047</td>\n",
       "      <td>1</td>\n",
       "    </tr>\n",
       "    <tr>\n",
       "      <th>11</th>\n",
       "      <td>12.0</td>\n",
       "      <td>0.576068</td>\n",
       "      <td>1</td>\n",
       "    </tr>\n",
       "    <tr>\n",
       "      <th>12</th>\n",
       "      <td>13.0</td>\n",
       "      <td>-0.173592</td>\n",
       "      <td>2</td>\n",
       "    </tr>\n",
       "    <tr>\n",
       "      <th>13</th>\n",
       "      <td>14.0</td>\n",
       "      <td>0.643871</td>\n",
       "      <td>1</td>\n",
       "    </tr>\n",
       "    <tr>\n",
       "      <th>14</th>\n",
       "      <td>15.0</td>\n",
       "      <td>0.159913</td>\n",
       "      <td>1</td>\n",
       "    </tr>\n",
       "    <tr>\n",
       "      <th>15</th>\n",
       "      <td>16.0</td>\n",
       "      <td>0.147155</td>\n",
       "      <td>1</td>\n",
       "    </tr>\n",
       "    <tr>\n",
       "      <th>16</th>\n",
       "      <td>17.0</td>\n",
       "      <td>0.439782</td>\n",
       "      <td>1</td>\n",
       "    </tr>\n",
       "    <tr>\n",
       "      <th>17</th>\n",
       "      <td>18.0</td>\n",
       "      <td>0.794846</td>\n",
       "      <td>1</td>\n",
       "    </tr>\n",
       "    <tr>\n",
       "      <th>18</th>\n",
       "      <td>19.0</td>\n",
       "      <td>-0.226234</td>\n",
       "      <td>0</td>\n",
       "    </tr>\n",
       "    <tr>\n",
       "      <th>19</th>\n",
       "      <td>20.0</td>\n",
       "      <td>-1.242554</td>\n",
       "      <td>0</td>\n",
       "    </tr>\n",
       "    <tr>\n",
       "      <th>20</th>\n",
       "      <td>21.0</td>\n",
       "      <td>-0.608257</td>\n",
       "      <td>0</td>\n",
       "    </tr>\n",
       "    <tr>\n",
       "      <th>21</th>\n",
       "      <td>22.0</td>\n",
       "      <td>-0.972631</td>\n",
       "      <td>0</td>\n",
       "    </tr>\n",
       "    <tr>\n",
       "      <th>22</th>\n",
       "      <td>23.0</td>\n",
       "      <td>-0.506102</td>\n",
       "      <td>0</td>\n",
       "    </tr>\n",
       "    <tr>\n",
       "      <th>23</th>\n",
       "      <td>24.0</td>\n",
       "      <td>-0.426858</td>\n",
       "      <td>0</td>\n",
       "    </tr>\n",
       "    <tr>\n",
       "      <th>24</th>\n",
       "      <td>25.0</td>\n",
       "      <td>-0.109579</td>\n",
       "      <td>0</td>\n",
       "    </tr>\n",
       "    <tr>\n",
       "      <th>25</th>\n",
       "      <td>26.0</td>\n",
       "      <td>0.272127</td>\n",
       "      <td>0</td>\n",
       "    </tr>\n",
       "    <tr>\n",
       "      <th>26</th>\n",
       "      <td>27.0</td>\n",
       "      <td>-0.791385</td>\n",
       "      <td>0</td>\n",
       "    </tr>\n",
       "    <tr>\n",
       "      <th>27</th>\n",
       "      <td>28.0</td>\n",
       "      <td>0.970505</td>\n",
       "      <td>0</td>\n",
       "    </tr>\n",
       "    <tr>\n",
       "      <th>28</th>\n",
       "      <td>29.0</td>\n",
       "      <td>1.957700</td>\n",
       "      <td>0</td>\n",
       "    </tr>\n",
       "    <tr>\n",
       "      <th>29</th>\n",
       "      <td>30.0</td>\n",
       "      <td>1.998854</td>\n",
       "      <td>0</td>\n",
       "    </tr>\n",
       "  </tbody>\n",
       "</table>\n",
       "</div>"
      ],
      "text/plain": [
       "       x         y  cluster\n",
       "0    1.0  0.260428        2\n",
       "1    2.0  0.253547        2\n",
       "2    3.0  0.517322        2\n",
       "3    4.0 -1.642199        2\n",
       "4    5.0  1.047089        2\n",
       "5    6.0 -1.081321        1\n",
       "6    7.0  0.608539        2\n",
       "7    8.0 -0.093113        2\n",
       "8    9.0 -0.293941        2\n",
       "9   10.0 -1.020031        1\n",
       "10  11.0  0.911047        1\n",
       "11  12.0  0.576068        1\n",
       "12  13.0 -0.173592        2\n",
       "13  14.0  0.643871        1\n",
       "14  15.0  0.159913        1\n",
       "15  16.0  0.147155        1\n",
       "16  17.0  0.439782        1\n",
       "17  18.0  0.794846        1\n",
       "18  19.0 -0.226234        0\n",
       "19  20.0 -1.242554        0\n",
       "20  21.0 -0.608257        0\n",
       "21  22.0 -0.972631        0\n",
       "22  23.0 -0.506102        0\n",
       "23  24.0 -0.426858        0\n",
       "24  25.0 -0.109579        0\n",
       "25  26.0  0.272127        0\n",
       "26  27.0 -0.791385        0\n",
       "27  28.0  0.970505        0\n",
       "28  29.0  1.957700        0\n",
       "29  30.0  1.998854        0"
      ]
     },
     "execution_count": 45,
     "metadata": {},
     "output_type": "execute_result"
    }
   ],
   "source": [
    "new_df = pd.DataFrame({'x': coord[:, 0], 'y': coord[:, 1], 'cluster': cluster})\n",
    "new_df"
   ]
  },
  {
   "cell_type": "code",
   "execution_count": 46,
   "id": "dbc7fa22",
   "metadata": {},
   "outputs": [],
   "source": [
    "colors = ['red', 'blue', 'yellow', 'green', 'orange', 'purple', 'pink', 'black']"
   ]
  },
  {
   "cell_type": "code",
   "execution_count": 47,
   "id": "6727cd38",
   "metadata": {},
   "outputs": [
    {
     "data": {
      "image/png": "[encoded data removed]",
      "text/plain": [
       "<Figure size 640x480 with 1 Axes>"
      ]
     },
     "metadata": {},
     "output_type": "display_data"
    }
   ],
   "source": [
    "for i in range(k):\n",
    "    plt.scatter(data=new_df[new_df['cluster'] == i], x='x', y='y', color=colors[i])"
   ]
  }
 ],
 "metadata": {
  "kernelspec": {
   "display_name": "Python 3 (ipykernel)",
   "language": "python",
   "name": "python3"
  },
  "language_info": {
   "codemirror_mode": {
    "name": "ipython",
    "version": 3
   },
   "file_extension": ".py",
   "mimetype": "text/x-python",
   "name": "python",
   "nbconvert_exporter": "python",
   "pygments_lexer": "ipython3",
   "version": "3.9.13"
  }
 },
 "nbformat": 4,
 "nbformat_minor": 5
}
