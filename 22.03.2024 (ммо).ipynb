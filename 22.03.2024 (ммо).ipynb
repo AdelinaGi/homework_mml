{
 "cells": [
  {
   "cell_type": "code",
   "execution_count": 79,
   "id": "65edbf2e",
   "metadata": {},
   "outputs": [],
   "source": [
    "from sympy import *"
   ]
  },
  {
   "cell_type": "code",
   "execution_count": 93,
   "id": "e84e2d81",
   "metadata": {},
   "outputs": [],
   "source": [
    "import pandas as pd\n",
    "import matplotlib.pyplot as plt\n",
    "import seaborn as sns"
   ]
  },
  {
   "cell_type": "code",
   "execution_count": 81,
   "id": "9f70193e",
   "metadata": {},
   "outputs": [],
   "source": [
    "import numpy as np"
   ]
  },
  {
   "cell_type": "markdown",
   "id": "4c7ffa0e",
   "metadata": {},
   "source": [
    "### Функция одной переменной"
   ]
  },
  {
   "cell_type": "code",
   "execution_count": 82,
   "id": "15cd6c57",
   "metadata": {},
   "outputs": [],
   "source": [
    "y, x = symbols('y x')"
   ]
  },
  {
   "cell_type": "code",
   "execution_count": 83,
   "id": "13cae0f8",
   "metadata": {},
   "outputs": [],
   "source": [
    "y = 3 * x ** 2\n",
    "df = diff(y, x)"
   ]
  },
  {
   "cell_type": "code",
   "execution_count": 84,
   "id": "0aabbaa4",
   "metadata": {},
   "outputs": [],
   "source": [
    "x_0 = 0\n",
    "lam = 0.1\n",
    "res = {'x': [], 'y': []}\n",
    "x_1 = 5"
   ]
  },
  {
   "cell_type": "code",
   "execution_count": 85,
   "id": "f96acd8f",
   "metadata": {},
   "outputs": [],
   "source": [
    "while abs(x_0 - x_1) > 0.00000001:\n",
    "    x_0 = x_1\n",
    "    res['x'].append(x_0)\n",
    "    res['y'].append(y.subs(x, x_0))\n",
    "    x_1 = x_0 - lam * df.subs(x, x_0)"
   ]
  },
  {
   "cell_type": "code",
   "execution_count": 86,
   "id": "07495ef2",
   "metadata": {},
   "outputs": [],
   "source": [
    "data = pd.DataFrame(res)\n",
    "data['x'] = data['x'].astype('float')\n",
    "data['y'] = data['y'].astype('float')"
   ]
  },
  {
   "cell_type": "code",
   "execution_count": 87,
   "id": "d2d8f0de",
   "metadata": {},
   "outputs": [],
   "source": [
    "xx = np.linspace(-5, 5)"
   ]
  },
  {
   "cell_type": "code",
   "execution_count": 88,
   "id": "69d30107",
   "metadata": {},
   "outputs": [],
   "source": [
    "f = {}\n",
    "f['x'] = list(xx)\n",
    "f['f'] = []"
   ]
  },
  {
   "cell_type": "code",
   "execution_count": 89,
   "id": "13fa6f95",
   "metadata": {},
   "outputs": [],
   "source": [
    "for i in  xx:\n",
    "    f['f'].append(y.subs(x, i))"
   ]
  },
  {
   "cell_type": "code",
   "execution_count": 90,
   "id": "1e690ebd",
   "metadata": {},
   "outputs": [],
   "source": [
    "data_2 = pd.DataFrame(f)\n",
    "data_2['x'] = data_2['x'].astype('float')\n",
    "data_2['f'] = data_2['f'].astype('float')"
   ]
  },
  {
   "cell_type": "code",
   "execution_count": 94,
   "id": "b03798ba",
   "metadata": {},
   "outputs": [
    {
     "data": {
      "image/png": "[encoded data removed]",
      "text/plain": [
       "<Figure size 640x480 with 1 Axes>"
      ]
     },
     "metadata": {},
     "output_type": "display_data"
    }
   ],
   "source": [
    "sns.lineplot(data=data, x='x', y='y')\n",
    "sns.lineplot(data=data_2, x='x', y='f')\n",
    "plt.show()"
   ]
  },
  {
   "cell_type": "markdown",
   "id": "e1158347",
   "metadata": {},
   "source": [
    "### Функция двух переменных"
   ]
  },
  {
   "cell_type": "code",
   "execution_count": 95,
   "id": "a21b8a32",
   "metadata": {},
   "outputs": [],
   "source": [
    "from mpl_toolkits.mplot3d import Axes3D"
   ]
  },
  {
   "cell_type": "code",
   "execution_count": 112,
   "id": "fbb12db8",
   "metadata": {},
   "outputs": [],
   "source": [
    "del y\n",
    "del x\n",
    "del f\n",
    "del res"
   ]
  },
  {
   "cell_type": "code",
   "execution_count": 113,
   "id": "f84cfc1d",
   "metadata": {},
   "outputs": [],
   "source": [
    "f, y, x = symbols('f y x')"
   ]
  },
  {
   "cell_type": "code",
   "execution_count": 114,
   "id": "a54f3afd",
   "metadata": {},
   "outputs": [],
   "source": [
    "f = 3 * x ** 2 + 5 * y ** 2\n",
    "df_x = diff(f, x)\n",
    "df_y = diff(f, y)"
   ]
  },
  {
   "cell_type": "code",
   "execution_count": 115,
   "id": "29ba27a2",
   "metadata": {},
   "outputs": [],
   "source": [
    "x_0 = 0\n",
    "y_0 = 0\n",
    "lam = 0.1\n",
    "res = {'x': [], 'y': [], 'f': []}\n",
    "x_1 = 5\n",
    "y_1 = 10"
   ]
  },
  {
   "cell_type": "code",
   "execution_count": 116,
   "id": "bd7aa538",
   "metadata": {},
   "outputs": [],
   "source": [
    "while ((x_0 - x_1) ** 2 + (y_0 - y_1) ** 2) ** 0.5 > 0.00000001:\n",
    "    x_0 = x_1\n",
    "    y_0 = y_1\n",
    "    res['x'].append(x_0)\n",
    "    res['y'].append(y_0)\n",
    "    res['f'].append(f.subs(x, x_0).subs(y, y_0))\n",
    "    x_1 = x_0 - lam * df_x.subs(x, x_0)\n",
    "    y_1 = y_0 - lam * df_y.subs(y, y_0)"
   ]
  }
 ],
 "metadata": {
  "kernelspec": {
   "display_name": "Python 3 (ipykernel)",
   "language": "python",
   "name": "python3"
  },
  "language_info": {
   "codemirror_mode": {
    "name": "ipython",
    "version": 3
   },
   "file_extension": ".py",
   "mimetype": "text/x-python",
   "name": "python",
   "nbconvert_exporter": "python",
   "pygments_lexer": "ipython3",
   "version": "3.9.13"
  }
 },
 "nbformat": 4,
 "nbformat_minor": 5
}
