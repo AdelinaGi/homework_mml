{
 "cells": [
  {
   "cell_type": "code",
   "execution_count": 1,
   "id": "65edbf2e",
   "metadata": {},
   "outputs": [],
   "source": [
    "from sympy import *"
   ]
  },
  {
   "cell_type": "code",
   "execution_count": 2,
   "id": "e84e2d81",
   "metadata": {},
   "outputs": [],
   "source": [
    "import pandas as pd\n",
    "import matplotlib.pyplot as plt\n",
    "import seaborn as sns"
   ]
  },
  {
   "cell_type": "code",
   "execution_count": 3,
   "id": "9f70193e",
   "metadata": {},
   "outputs": [],
   "source": [
    "import numpy as np"
   ]
  },
  {
   "cell_type": "code",
   "execution_count": 4,
   "id": "f030541a",
   "metadata": {},
   "outputs": [],
   "source": [
    "from scipy import *"
   ]
  },
  {
   "cell_type": "markdown",
   "id": "4c7ffa0e",
   "metadata": {},
   "source": [
    "### Функция одной переменной"
   ]
  },
  {
   "cell_type": "code",
   "execution_count": 6,
   "id": "15cd6c57",
   "metadata": {},
   "outputs": [],
   "source": [
    "y, x, lam = symbols('y x lam')"
   ]
  },
  {
   "cell_type": "code",
   "execution_count": 7,
   "id": "13cae0f8",
   "metadata": {},
   "outputs": [],
   "source": [
    "y = 3 * x ** 2\n",
    "df = diff(y, x)"
   ]
  },
  {
   "cell_type": "code",
   "execution_count": 8,
   "id": "f96acd8f",
   "metadata": {},
   "outputs": [],
   "source": [
    "x_0 = 0\n",
    "res = {'x': [], 'y': []}\n",
    "x_1 = 5"
   ]
  },
  {
   "cell_type": "code",
   "execution_count": 11,
   "id": "6c2e64e7",
   "metadata": {},
   "outputs": [],
   "source": [
    "while abs(x_0 - x_1) > 0.00000001:\n",
    "    x_0 = x_1\n",
    "    res['x'].append(x_0)\n",
    "    res['y'].append(y.subs(x, x_0))\n",
    "    f = y.subs(x, x_0 - lam * df.subs(x, x_0))\n",
    "    d = diff(f, lam)\n",
    "    sol = np.array(solve(d))\n",
    "    lam_1 = sol[0]\n",
    "    x_1 = x_0 - sol[0] * df.subs(x, x_0)"
   ]
  },
  {
   "cell_type": "code",
   "execution_count": 12,
   "id": "27164860",
   "metadata": {},
   "outputs": [
    {
     "data": {
      "text/plain": [
       "{'x': [5, 0], 'y': [75, 0]}"
      ]
     },
     "execution_count": 12,
     "metadata": {},
     "output_type": "execute_result"
    }
   ],
   "source": [
    "res"
   ]
  },
  {
   "cell_type": "code",
   "execution_count": 13,
   "id": "07495ef2",
   "metadata": {},
   "outputs": [],
   "source": [
    "data = pd.DataFrame(res)\n",
    "data['x'] = data['x'].astype('float')\n",
    "data['y'] = data['y'].astype('float')"
   ]
  },
  {
   "cell_type": "code",
   "execution_count": 14,
   "id": "d2d8f0de",
   "metadata": {},
   "outputs": [],
   "source": [
    "xx = np.linspace(-5, 5)"
   ]
  },
  {
   "cell_type": "code",
   "execution_count": 15,
   "id": "69d30107",
   "metadata": {},
   "outputs": [],
   "source": [
    "f = {}\n",
    "f['x'] = list(xx)\n",
    "f['f'] = []"
   ]
  },
  {
   "cell_type": "code",
   "execution_count": 16,
   "id": "13fa6f95",
   "metadata": {},
   "outputs": [],
   "source": [
    "for i in  xx:\n",
    "    f['f'].append(y.subs(x, i))"
   ]
  },
  {
   "cell_type": "code",
   "execution_count": 17,
   "id": "1e690ebd",
   "metadata": {},
   "outputs": [],
   "source": [
    "data_2 = pd.DataFrame(f)\n",
    "data_2['x'] = data_2['x'].astype('float')\n",
    "data_2['f'] = data_2['f'].astype('float')"
   ]
  },
  {
   "cell_type": "code",
   "execution_count": 18,
   "id": "b03798ba",
   "metadata": {},
   "outputs": [
    {
     "data": {
      "image/png": "[encoded data removed]",
      "text/plain": [
       "<Figure size 640x480 with 1 Axes>"
      ]
     },
     "metadata": {},
     "output_type": "display_data"
    }
   ],
   "source": [
    "sns.lineplot(data=data, x='x', y='y')\n",
    "sns.lineplot(data=data_2, x='x', y='f')\n",
    "plt.show()"
   ]
  },
  {
   "cell_type": "markdown",
   "id": "e1158347",
   "metadata": {},
   "source": [
    "### Функция двух переменных"
   ]
  },
  {
   "cell_type": "code",
   "execution_count": 95,
   "id": "a21b8a32",
   "metadata": {},
   "outputs": [],
   "source": [
    "from mpl_toolkits.mplot3d import Axes3D"
   ]
  },
  {
   "cell_type": "code",
   "execution_count": 19,
   "id": "fbb12db8",
   "metadata": {},
   "outputs": [],
   "source": [
    "del y\n",
    "del x\n",
    "del f\n",
    "del res\n",
    "del lam"
   ]
  },
  {
   "cell_type": "code",
   "execution_count": 20,
   "id": "f84cfc1d",
   "metadata": {},
   "outputs": [],
   "source": [
    "f, y, x, lam = symbols('f y x lam')"
   ]
  },
  {
   "cell_type": "code",
   "execution_count": 21,
   "id": "a54f3afd",
   "metadata": {},
   "outputs": [],
   "source": [
    "f = 3 * x ** 2 + 5 * y ** 2\n",
    "df_x = diff(f, x)\n",
    "df_y = diff(f, y)"
   ]
  },
  {
   "cell_type": "code",
   "execution_count": 31,
   "id": "29ba27a2",
   "metadata": {},
   "outputs": [],
   "source": [
    "x_0 = 0\n",
    "y_0 = 0\n",
    "res = {'x': [], 'y': [], 'f': []}\n",
    "x_1 = 5\n",
    "y_1 = 10\n",
    "m = ((x_0 - x_1) ** 2 + (y_0 - y_1) ** 2) ** 0.5"
   ]
  },
  {
   "cell_type": "code",
   "execution_count": 32,
   "id": "bd7aa538",
   "metadata": {},
   "outputs": [],
   "source": [
    "while m > 0.00000001:\n",
    "    m = ((x_0 - x_1) ** 2 + (y_0 - y_1) ** 2) ** 0.5\n",
    "    x_0 = x_1\n",
    "    y_0 = y_1\n",
    "    res['x'].append(x_0)\n",
    "    res['y'].append(y_0)\n",
    "    res['f'].append(f.subs(x, x_0).subs(y, y_0))\n",
    "    ff = f.subs(x, x_0 - lam * df_x.subs(x, x_0)).subs(y, y_0 - lam * df_y.subs(y, y_0))\n",
    "    d = diff(ff, lam)\n",
    "    sol = np.array(solve(d))\n",
    "    lam_1 = sol[0]\n",
    "    x_1 = x_0 - lam_1 * df_x.subs(x, x_0)\n",
    "    y_1 = y_0 - lam_1 * df_y.subs(y, y_0)"
   ]
  },
  {
   "cell_type": "code",
   "execution_count": 33,
   "id": "9d7bb15a",
   "metadata": {},
   "outputs": [
    {
     "data": {
      "text/plain": [
       "{'x': [5,\n",
       "  1000/527,\n",
       "  1200/12121,\n",
       "  240000/6387767,\n",
       "  288000/146918641,\n",
       "  57600000/77426123807,\n",
       "  69120000/1780800847561,\n",
       "  13824000000/938482046664647,\n",
       "  16588800000/21585087073286881,\n",
       "  3317760000000/11375340887622186287,\n",
       "  3981312000000/261632840415310284601,\n",
       "  796262400000000/137880506898868519984727,\n",
       "  955514880000000/3171251658673975959648721],\n",
       " 'y': [10,\n",
       "  -180/527,\n",
       "  2400/12121,\n",
       "  -43200/6387767,\n",
       "  576000/146918641,\n",
       "  -10368000/77426123807,\n",
       "  138240000/1780800847561,\n",
       "  -2488320000/938482046664647,\n",
       "  33177600000/21585087073286881,\n",
       "  -597196800000/11375340887622186287,\n",
       "  7962624000000/261632840415310284601,\n",
       "  -143327232000000/137880506898868519984727,\n",
       "  1911029760000000/3171251658673975959648721],\n",
       " 'f': [575,\n",
       "  6000/527,\n",
       "  1440000/6387767,\n",
       "  345600000/77426123807,\n",
       "  82944000000/938482046664647,\n",
       "  19906560000000/11375340887622186287,\n",
       "  4777574400000000/137880506898868519984727,\n",
       "  1146617856000000000/1671249624121185330734875967,\n",
       "  275188285440000000000/20257216693972887393837431596007,\n",
       "  66045188505600000000000/245537723547645368100703508375200847,\n",
       "  15850845241344000000000000/2976162747121009506748627225015809466487,\n",
       "  3804202857922560000000000000/36074068657853756231300110594416626543288927,\n",
       "  913008685901414400000000000000/437253786201845379279588640514923930331205084167]}"
      ]
     },
     "execution_count": 33,
     "metadata": {},
     "output_type": "execute_result"
    }
   ],
   "source": [
    "res"
   ]
  }
 ],
 "metadata": {
  "kernelspec": {
   "display_name": "Python 3 (ipykernel)",
   "language": "python",
   "name": "python3"
  },
  "language_info": {
   "codemirror_mode": {
    "name": "ipython",
    "version": 3
   },
   "file_extension": ".py",
   "mimetype": "text/x-python",
   "name": "python",
   "nbconvert_exporter": "python",
   "pygments_lexer": "ipython3",
   "version": "3.9.13"
  }
 },
 "nbformat": 4,
 "nbformat_minor": 5
}
