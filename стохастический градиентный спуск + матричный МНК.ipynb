{
 "cells": [
  {
   "cell_type": "code",
   "execution_count": 266,
   "id": "d7d84e99",
   "metadata": {},
   "outputs": [],
   "source": [
    "import pandas as pd\n",
    "import numpy as np"
   ]
  },
  {
   "cell_type": "code",
   "execution_count": 357,
   "id": "37a73acc",
   "metadata": {},
   "outputs": [],
   "source": [
    "import seaborn as sns"
   ]
  },
  {
   "cell_type": "markdown",
   "id": "deafcd15",
   "metadata": {},
   "source": [
    "### Нахождение параметров уравнения без библиотек"
   ]
  },
  {
   "cell_type": "code",
   "execution_count": 267,
   "id": "b0d6b994",
   "metadata": {},
   "outputs": [],
   "source": [
    "data = pd.read_csv('techparams_train.csv', sep=',')"
   ]
  },
  {
   "cell_type": "code",
   "execution_count": 268,
   "id": "25ead585",
   "metadata": {},
   "outputs": [],
   "source": [
    "data['0'] = [1] * data.shape[0]"
   ]
  },
  {
   "cell_type": "code",
   "execution_count": 269,
   "id": "65c98e80",
   "metadata": {},
   "outputs": [],
   "source": [
    "col = ['0'] + list(data.columns[:-2])"
   ]
  },
  {
   "cell_type": "code",
   "execution_count": 270,
   "id": "83125fa5",
   "metadata": {},
   "outputs": [],
   "source": [
    "my_y = np.array(data['target'].copy())\n",
    "my_x = np.array(data[col].copy())"
   ]
  },
  {
   "cell_type": "code",
   "execution_count": 271,
   "id": "e4d1263f",
   "metadata": {},
   "outputs": [],
   "source": [
    "def modeler(x, y):\n",
    "    b = np.linalg.inv(x.T.dot(x)).dot(x.T).dot(y)    # свободный член + коэффициенты\n",
    "    return b"
   ]
  },
  {
   "cell_type": "code",
   "execution_count": 272,
   "id": "2e600aae",
   "metadata": {},
   "outputs": [
    {
     "name": "stdout",
     "output_type": "stream",
     "text": [
      "[-3.36061812e+03  5.26590957e-05  3.70595100e-01  6.09426977e+00\n",
      "  1.49500526e-03 -3.68457021e+00 -7.67701350e-01 -8.05055653e-01\n",
      "  8.80558233e+01 -8.29569124e+00  2.77527697e+00 -1.69151867e-02\n",
      " -4.55704573e+01  3.47657410e+01  4.13473135e-04 -2.05829977e-01\n",
      "  5.10659783e-01  2.06987214e+00  1.46588396e-02  1.38751825e+00\n",
      "  2.97202648e-02 -1.58400574e-03 -4.66697920e-02  6.95151048e+00\n",
      " -1.31212239e+01  1.16238892e+01  2.21866776e+00 -1.09643185e-02\n",
      "  1.38569380e+00 -7.31450562e+00  2.06647584e+02 -4.55192618e-02]\n"
     ]
    }
   ],
   "source": [
    "print(modeler(x=my_x, y=my_y))"
   ]
  },
  {
   "cell_type": "code",
   "execution_count": 273,
   "id": "7c5b8f90",
   "metadata": {},
   "outputs": [],
   "source": [
    "# сравним с тем, что дает библиотеки:\n",
    "from sklearn.linear_model import LinearRegression"
   ]
  },
  {
   "cell_type": "code",
   "execution_count": 274,
   "id": "7739689f",
   "metadata": {},
   "outputs": [
    {
     "name": "stdout",
     "output_type": "stream",
     "text": [
      "-3360.6181225878136 [ 5.26590957e-05  3.70595101e-01  6.09426977e+00  1.49500526e-03\n",
      " -3.68457021e+00 -7.67701350e-01 -8.05055652e-01  8.80558233e+01\n",
      " -8.29569124e+00  2.77527697e+00 -1.69151867e-02 -4.55704573e+01\n",
      "  3.47657410e+01  4.13473135e-04 -2.05829977e-01  5.10659783e-01\n",
      "  2.06987214e+00  1.46588396e-02  1.38751825e+00  2.97202648e-02\n",
      " -1.58400574e-03 -4.66697920e-02  6.95151048e+00 -1.31212239e+01\n",
      "  1.16238892e+01  2.21866776e+00 -1.09643185e-02  1.38569380e+00\n",
      " -7.31450562e+00  2.06647584e+02 -4.55192618e-02]\n"
     ]
    }
   ],
   "source": [
    "xx = np.array(data[col[1:]].copy())\n",
    "model = LinearRegression().fit(xx, my_y)\n",
    "print(model.intercept_, model.coef_)"
   ]
  },
  {
   "cell_type": "markdown",
   "id": "139e4ff9",
   "metadata": {},
   "source": [
    "Результаты одинаковы"
   ]
  },
  {
   "cell_type": "markdown",
   "id": "7d894f1b",
   "metadata": {},
   "source": [
    "### Градиентный спуск"
   ]
  },
  {
   "cell_type": "code",
   "execution_count": 275,
   "id": "88f54c52",
   "metadata": {},
   "outputs": [],
   "source": [
    "from random import *"
   ]
  },
  {
   "cell_type": "code",
   "execution_count": 276,
   "id": "01365d29",
   "metadata": {},
   "outputs": [],
   "source": [
    "from sympy import *"
   ]
  },
  {
   "cell_type": "code",
   "execution_count": 381,
   "id": "f909a6d3",
   "metadata": {},
   "outputs": [],
   "source": [
    "y = np.random.normal(size=30).reshape(30, 1)\n",
    "x = np.ones(30).reshape(30, 1)\n",
    "xx = np.array(range(1, 31)).reshape(30, 1)\n",
    "x = np.concatenate((x, xx), axis=1)"
   ]
  },
  {
   "cell_type": "code",
   "execution_count": 382,
   "id": "84312cd4",
   "metadata": {},
   "outputs": [
    {
     "name": "stdout",
     "output_type": "stream",
     "text": [
      "[[ 0.37730483]\n",
      " [-0.00766509]]\n"
     ]
    }
   ],
   "source": [
    "print(modeler(x=x, y=y))"
   ]
  },
  {
   "cell_type": "code",
   "execution_count": 383,
   "id": "6a41da23",
   "metadata": {},
   "outputs": [
    {
     "name": "stdout",
     "output_type": "stream",
     "text": [
      "[0.37730483] [[-0.00766509]]\n"
     ]
    }
   ],
   "source": [
    "m = LinearRegression().fit(xx, y)\n",
    "print(m.intercept_, m.coef_)"
   ]
  },
  {
   "cell_type": "code",
   "execution_count": 384,
   "id": "c6987cb7",
   "metadata": {},
   "outputs": [],
   "source": [
    "f, w0, w1 = symbols('f w0 w1')"
   ]
  },
  {
   "cell_type": "code",
   "execution_count": 385,
   "id": "4380ce5b",
   "metadata": {},
   "outputs": [],
   "source": [
    "f = sum((y - (w0 + w1 * xx)) ** 2)[0]"
   ]
  },
  {
   "cell_type": "code",
   "execution_count": 386,
   "id": "9ea33522",
   "metadata": {},
   "outputs": [],
   "source": [
    "d_w0 = diff(f, w0)\n",
    "d_w1 = diff(f, w1)"
   ]
  },
  {
   "cell_type": "code",
   "execution_count": 387,
   "id": "2a47b691",
   "metadata": {},
   "outputs": [
    {
     "data": {
      "text/latex": [
       "$\\displaystyle 60 w_{0} + 930 w_{1} - 15.5097582888068$"
      ],
      "text/plain": [
       "60*w0 + 930*w1 - 15.5097582888068"
      ]
     },
     "execution_count": 387,
     "metadata": {},
     "output_type": "execute_result"
    }
   ],
   "source": [
    "d_w0"
   ]
  },
  {
   "cell_type": "code",
   "execution_count": 388,
   "id": "55b1e9a1",
   "metadata": {},
   "outputs": [
    {
     "data": {
      "text/latex": [
       "$\\displaystyle 930 w_{0} + 18910 w_{1} - 205.946683507059$"
      ],
      "text/plain": [
       "930*w0 + 18910*w1 - 205.946683507059"
      ]
     },
     "execution_count": 388,
     "metadata": {},
     "output_type": "execute_result"
    }
   ],
   "source": [
    "d_w1"
   ]
  },
  {
   "cell_type": "code",
   "execution_count": 389,
   "id": "cd65dde6",
   "metadata": {},
   "outputs": [],
   "source": [
    "sol = np.array(solve(d_w0))\n",
    "b = np.array(solve(d_w1.subs(w0, sol[0][w0])))[0]\n",
    "a = np.array(solve(d_w1.subs(w1, b)))[0]"
   ]
  },
  {
   "cell_type": "code",
   "execution_count": 390,
   "id": "efcf65bb",
   "metadata": {},
   "outputs": [
    {
     "name": "stdout",
     "output_type": "stream",
     "text": [
      "0.377304833443723 -0.00766508786861996\n"
     ]
    }
   ],
   "source": [
    "print(a, b)"
   ]
  },
  {
   "cell_type": "code",
   "execution_count": 391,
   "id": "5f0e64e7",
   "metadata": {},
   "outputs": [],
   "source": [
    "a_0 = 0\n",
    "b_0 = 0\n",
    "a_1 = 5\n",
    "b_1 = 5"
   ]
  },
  {
   "cell_type": "code",
   "execution_count": 392,
   "id": "924ffa5b",
   "metadata": {},
   "outputs": [],
   "source": [
    "while ((a_0 - a_1) ** 2 + (b_0 - b_1) ** 2) ** 0.5 > 0.0000001:\n",
    "    a_0 = a_1\n",
    "    b_0 = b_1\n",
    "    a_1 = a_0 - lam * d_w0.subs(w0, a_0).subs(w1, b_0)\n",
    "    b_1 = b_0 - lam * d_w1.subs(w1, b_0).subs(w0, a_0)"
   ]
  },
  {
   "cell_type": "code",
   "execution_count": 393,
   "id": "ce8860f7",
   "metadata": {},
   "outputs": [
    {
     "data": {
      "text/latex": [
       "$\\displaystyle 0.377374878842927$"
      ],
      "text/plain": [
       "0.377374878842927"
      ]
     },
     "execution_count": 393,
     "metadata": {},
     "output_type": "execute_result"
    }
   ],
   "source": [
    "a_1"
   ]
  },
  {
   "cell_type": "code",
   "execution_count": 394,
   "id": "94dbc3bf",
   "metadata": {},
   "outputs": [
    {
     "data": {
      "text/latex": [
       "$\\displaystyle -0.00766853531817452$"
      ],
      "text/plain": [
       "-0.00766853531817452"
      ]
     },
     "execution_count": 394,
     "metadata": {},
     "output_type": "execute_result"
    }
   ],
   "source": [
    "b_1"
   ]
  },
  {
   "cell_type": "code",
   "execution_count": 396,
   "id": "4eae63d0",
   "metadata": {},
   "outputs": [],
   "source": [
    "y_pred = (a_1 + b_1 * xx).reshape(1, 30)[0].astype('float')"
   ]
  },
  {
   "cell_type": "code",
   "execution_count": 398,
   "id": "bf45c028",
   "metadata": {},
   "outputs": [
    {
     "data": {
      "text/plain": [
       "<AxesSubplot:>"
      ]
     },
     "execution_count": 398,
     "metadata": {},
     "output_type": "execute_result"
    },
    {
     "data": {
      "image/png": "[encoded data removed]",
      "text/plain": [
       "<Figure size 640x480 with 1 Axes>"
      ]
     },
     "metadata": {},
     "output_type": "display_data"
    }
   ],
   "source": [
    "sns.scatterplot(x=xx.reshape(1, 30)[0], y=y.reshape(1, 30)[0])\n",
    "sns.lineplot(x=xx.reshape(1, 30)[0], y=y_pred, color='r')"
   ]
  },
  {
   "cell_type": "markdown",
   "id": "6a2ea545",
   "metadata": {},
   "source": [
    "### Стохастический градиентный спуск"
   ]
  },
  {
   "cell_type": "code",
   "execution_count": 399,
   "id": "28f0b6f7",
   "metadata": {},
   "outputs": [],
   "source": [
    "ff = symbols('ff')"
   ]
  },
  {
   "cell_type": "code",
   "execution_count": 416,
   "id": "10509ba2",
   "metadata": {},
   "outputs": [
    {
     "data": {
      "text/plain": [
       "19"
      ]
     },
     "execution_count": 416,
     "metadata": {},
     "output_type": "execute_result"
    }
   ],
   "source": [
    "i = np.random.randint(0, 31)\n",
    "i"
   ]
  },
  {
   "cell_type": "code",
   "execution_count": 417,
   "id": "2c13c246",
   "metadata": {},
   "outputs": [],
   "source": [
    "ff = (y[i][0] - (w0 + w1 * xx[i][0])) ** 2"
   ]
  },
  {
   "cell_type": "code",
   "execution_count": 418,
   "id": "a690068d",
   "metadata": {},
   "outputs": [
    {
     "data": {
      "text/latex": [
       "$\\displaystyle 400 \\left(- \\frac{w_{0}}{20} - w_{1} - 0.0230259533173241\\right)^{2}$"
      ],
      "text/plain": [
       "400*(-w0/20 - w1 - 0.0230259533173241)**2"
      ]
     },
     "execution_count": 418,
     "metadata": {},
     "output_type": "execute_result"
    }
   ],
   "source": [
    "ff"
   ]
  },
  {
   "cell_type": "code",
   "execution_count": 419,
   "id": "b3bf145c",
   "metadata": {},
   "outputs": [],
   "source": [
    "d_w0 = diff(ff, w0)\n",
    "d_w1 = diff(ff, w1)"
   ]
  },
  {
   "cell_type": "code",
   "execution_count": 420,
   "id": "8fe65604",
   "metadata": {},
   "outputs": [
    {
     "data": {
      "text/latex": [
       "$\\displaystyle 2 w_{0} + 40 w_{1} + 0.921038132692963$"
      ],
      "text/plain": [
       "2*w0 + 40*w1 + 0.921038132692963"
      ]
     },
     "execution_count": 420,
     "metadata": {},
     "output_type": "execute_result"
    }
   ],
   "source": [
    "d_w0"
   ]
  },
  {
   "cell_type": "code",
   "execution_count": 421,
   "id": "917ff71d",
   "metadata": {},
   "outputs": [
    {
     "data": {
      "text/latex": [
       "$\\displaystyle 40 w_{0} + 800 w_{1} + 18.4207626538593$"
      ],
      "text/plain": [
       "40*w0 + 800*w1 + 18.4207626538593"
      ]
     },
     "execution_count": 421,
     "metadata": {},
     "output_type": "execute_result"
    }
   ],
   "source": [
    "d_w1"
   ]
  },
  {
   "cell_type": "code",
   "execution_count": 422,
   "id": "7ca6996e",
   "metadata": {},
   "outputs": [],
   "source": [
    "a_0 = 0\n",
    "b_0 = 0\n",
    "a_1 = 5\n",
    "b_1 = 5"
   ]
  },
  {
   "cell_type": "code",
   "execution_count": 423,
   "id": "5f5e50b6",
   "metadata": {},
   "outputs": [],
   "source": [
    "while ((a_0 - a_1) ** 2 + (b_0 - b_1) ** 2) ** 0.5 > 0.0000001:\n",
    "    a_0 = a_1\n",
    "    b_0 = b_1\n",
    "    a_1 = a_0 - lam * d_w0.subs(w0, a_0).subs(w1, b_0)\n",
    "    b_1 = b_0 - lam * d_w1.subs(w1, b_0).subs(w0, a_0)"
   ]
  },
  {
   "cell_type": "code",
   "execution_count": 424,
   "id": "9962833a",
   "metadata": {},
   "outputs": [
    {
     "data": {
      "text/latex": [
       "$\\displaystyle 4.73700624176188$"
      ],
      "text/plain": [
       "4.73700624176188"
      ]
     },
     "execution_count": 424,
     "metadata": {},
     "output_type": "execute_result"
    }
   ],
   "source": [
    "a_1"
   ]
  },
  {
   "cell_type": "code",
   "execution_count": 425,
   "id": "b127c15b",
   "metadata": {},
   "outputs": [
    {
     "data": {
      "text/latex": [
       "$\\displaystyle -0.259875164762426$"
      ],
      "text/plain": [
       "-0.259875164762426"
      ]
     },
     "execution_count": 425,
     "metadata": {},
     "output_type": "execute_result"
    }
   ],
   "source": [
    "b_1"
   ]
  },
  {
   "cell_type": "code",
   "execution_count": 426,
   "id": "ba6c5528",
   "metadata": {},
   "outputs": [],
   "source": [
    "y_pred = (a_1 + b_1 * xx).reshape(1, 30)[0].astype('float')"
   ]
  },
  {
   "cell_type": "code",
   "execution_count": 427,
   "id": "53a51c25",
   "metadata": {},
   "outputs": [
    {
     "data": {
      "text/plain": [
       "<AxesSubplot:>"
      ]
     },
     "execution_count": 427,
     "metadata": {},
     "output_type": "execute_result"
    },
    {
     "data": {
      "image/png": "[encoded data removed]",
      "text/plain": [
       "<Figure size 640x480 with 1 Axes>"
      ]
     },
     "metadata": {},
     "output_type": "display_data"
    }
   ],
   "source": [
    "sns.scatterplot(x=xx.reshape(1, 30)[0], y=y.reshape(1, 30)[0])\n",
    "sns.lineplot(x=xx.reshape(1, 30)[0], y=y_pred, color='r')"
   ]
  },
  {
   "cell_type": "raw",
   "id": "5af3ee65",
   "metadata": {},
   "source": [
    "for j in range(len(y)):\n",
    "    ff = (y[j][0] - (w0 + w1 * xx[j][0])) ** 2\n",
    "    d_w0 = diff(ff, w0)\n",
    "    d_w1 = diff(ff, w1)\n",
    "    a_0 = 0\n",
    "    b_0 = 0\n",
    "    a_1 = 5\n",
    "    b_1 = 5\n",
    "    a = []\n",
    "    b = []\n",
    "    while ((a_0 - a_1) ** 2 + (b_0 - b_1) ** 2) ** 0.5 > 0.0000001:\n",
    "        a_0 = a_1\n",
    "        b_0 = b_1\n",
    "        a_1 = a_0 - lam * d_w0.subs(w0, a_0).subs(w1, b_0)\n",
    "        b_1 = b_0 - lam * d_w1.subs(w1, b_0).subs(w0, a_0)\n",
    "        a.append(a_1)\n",
    "        b.append(b_1)\n",
    "# очень долго грузит"
   ]
  },
  {
   "cell_type": "raw",
   "id": "c121c552",
   "metadata": {},
   "source": [
    "a"
   ]
  },
  {
   "cell_type": "raw",
   "id": "9c4f2ddf",
   "metadata": {},
   "source": [
    "b"
   ]
  },
  {
   "cell_type": "raw",
   "id": "d4cb1482",
   "metadata": {},
   "source": [
    "np.mean(a)"
   ]
  },
  {
   "cell_type": "raw",
   "id": "c76672c4",
   "metadata": {},
   "source": [
    "np.mean(b)"
   ]
  }
 ],
 "metadata": {
  "kernelspec": {
   "display_name": "Python 3 (ipykernel)",
   "language": "python",
   "name": "python3"
  },
  "language_info": {
   "codemirror_mode": {
    "name": "ipython",
    "version": 3
   },
   "file_extension": ".py",
   "mimetype": "text/x-python",
   "name": "python",
   "nbconvert_exporter": "python",
   "pygments_lexer": "ipython3",
   "version": "3.9.13"
  }
 },
 "nbformat": 4,
 "nbformat_minor": 5
}
