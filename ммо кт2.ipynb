{
 "cells": [
  {
   "cell_type": "code",
   "execution_count": 2,
   "id": "1fa31dc9",
   "metadata": {},
   "outputs": [],
   "source": [
    "# импорт необходимых библиотек:\n",
    "import pandas as pd\n",
    "import seaborn as sns\n",
    "import matplotlib.pyplot as plt\n",
    "from sklearn.preprocessing import StandardScaler\n",
    "from sklearn.model_selection import train_test_split\n",
    "import numpy as np\n",
    "from sklearn.linear_model import LinearRegression"
   ]
  },
  {
   "cell_type": "markdown",
   "id": "737fe5fa",
   "metadata": {},
   "source": [
    "### 1. Знакомство и предобработка."
   ]
  },
  {
   "cell_type": "code",
   "execution_count": 3,
   "id": "1e2dd9de",
   "metadata": {},
   "outputs": [],
   "source": [
    "data = pd.read_csv('CrabAgePrediction.csv', sep=',')    # загружаем датасет"
   ]
  },
  {
   "cell_type": "code",
   "execution_count": 4,
   "id": "09b1bfdd",
   "metadata": {},
   "outputs": [
    {
     "name": "stdout",
     "output_type": "stream",
     "text": [
      "<class 'pandas.core.frame.DataFrame'>\n",
      "RangeIndex: 3893 entries, 0 to 3892\n",
      "Data columns (total 9 columns):\n",
      " #   Column          Non-Null Count  Dtype  \n",
      "---  ------          --------------  -----  \n",
      " 0   Sex             3893 non-null   object \n",
      " 1   Length          3893 non-null   float64\n",
      " 2   Diameter        3893 non-null   float64\n",
      " 3   Height          3893 non-null   float64\n",
      " 4   Weight          3893 non-null   float64\n",
      " 5   Shucked Weight  3893 non-null   float64\n",
      " 6   Viscera Weight  3893 non-null   float64\n",
      " 7   Shell Weight    3893 non-null   float64\n",
      " 8   Age             3893 non-null   int64  \n",
      "dtypes: float64(7), int64(1), object(1)\n",
      "memory usage: 273.9+ KB\n"
     ]
    }
   ],
   "source": [
    "data.info()    # посмотрим основную информацию по данным"
   ]
  },
  {
   "cell_type": "raw",
   "id": "d7ace7d2",
   "metadata": {},
   "source": [
    "Определим, какие столбцы, что означают:\n",
    "sex - пол краба\n",
    "length - длина\n",
    "diameter - диаметр\n",
    "height - высота\n",
    "weight - вес (общий)\n",
    "shucked weight - вес оставшийся\n",
    "viscera weight - масса внутренностей\n",
    "shell weight - масса панциря\n",
    "age - возраст"
   ]
  },
  {
   "cell_type": "markdown",
   "id": "9cf4d638",
   "metadata": {},
   "source": [
    "Все типы данных соответсвуют необходимым и пропуски отсутсвуют. Проверим данные на наличие дубликатов."
   ]
  },
  {
   "cell_type": "code",
   "execution_count": 5,
   "id": "4f021018",
   "metadata": {},
   "outputs": [
    {
     "data": {
      "text/plain": [
       "0"
      ]
     },
     "execution_count": 5,
     "metadata": {},
     "output_type": "execute_result"
    }
   ],
   "source": [
    "data.duplicated().sum()    # дубликатов не найдено"
   ]
  },
  {
   "cell_type": "markdown",
   "id": "f702c196",
   "metadata": {},
   "source": [
    "Для удобства хочется обработать названия столбцов."
   ]
  },
  {
   "cell_type": "code",
   "execution_count": 6,
   "id": "af8cdfbb",
   "metadata": {},
   "outputs": [],
   "source": [
    "col = ['_'.join(i.lower().split()) for i in list(data.columns)]"
   ]
  },
  {
   "cell_type": "code",
   "execution_count": 7,
   "id": "fe19c346",
   "metadata": {},
   "outputs": [],
   "source": [
    "data.columns = col"
   ]
  },
  {
   "cell_type": "code",
   "execution_count": 8,
   "id": "3db703fa",
   "metadata": {},
   "outputs": [
    {
     "data": {
      "text/html": [
       "<div>\n",
       "<style scoped>\n",
       "    .dataframe tbody tr th:only-of-type {\n",
       "        vertical-align: middle;\n",
       "    }\n",
       "\n",
       "    .dataframe tbody tr th {\n",
       "        vertical-align: top;\n",
       "    }\n",
       "\n",
       "    .dataframe thead th {\n",
       "        text-align: right;\n",
       "    }\n",
       "</style>\n",
       "<table border=\"1\" class=\"dataframe\">\n",
       "  <thead>\n",
       "    <tr style=\"text-align: right;\">\n",
       "      <th></th>\n",
       "      <th>sex</th>\n",
       "      <th>length</th>\n",
       "      <th>diameter</th>\n",
       "      <th>height</th>\n",
       "      <th>weight</th>\n",
       "      <th>shucked_weight</th>\n",
       "      <th>viscera_weight</th>\n",
       "      <th>shell_weight</th>\n",
       "      <th>age</th>\n",
       "    </tr>\n",
       "  </thead>\n",
       "  <tbody>\n",
       "    <tr>\n",
       "      <th>0</th>\n",
       "      <td>F</td>\n",
       "      <td>1.4375</td>\n",
       "      <td>1.1750</td>\n",
       "      <td>0.4125</td>\n",
       "      <td>24.635715</td>\n",
       "      <td>12.332033</td>\n",
       "      <td>5.584852</td>\n",
       "      <td>6.747181</td>\n",
       "      <td>9</td>\n",
       "    </tr>\n",
       "    <tr>\n",
       "      <th>1</th>\n",
       "      <td>M</td>\n",
       "      <td>0.8875</td>\n",
       "      <td>0.6500</td>\n",
       "      <td>0.2125</td>\n",
       "      <td>5.400580</td>\n",
       "      <td>2.296310</td>\n",
       "      <td>1.374951</td>\n",
       "      <td>1.559222</td>\n",
       "      <td>6</td>\n",
       "    </tr>\n",
       "    <tr>\n",
       "      <th>2</th>\n",
       "      <td>I</td>\n",
       "      <td>1.0375</td>\n",
       "      <td>0.7750</td>\n",
       "      <td>0.2500</td>\n",
       "      <td>7.952035</td>\n",
       "      <td>3.231843</td>\n",
       "      <td>1.601747</td>\n",
       "      <td>2.764076</td>\n",
       "      <td>6</td>\n",
       "    </tr>\n",
       "    <tr>\n",
       "      <th>3</th>\n",
       "      <td>F</td>\n",
       "      <td>1.1750</td>\n",
       "      <td>0.8875</td>\n",
       "      <td>0.2500</td>\n",
       "      <td>13.480187</td>\n",
       "      <td>4.748541</td>\n",
       "      <td>2.282135</td>\n",
       "      <td>5.244657</td>\n",
       "      <td>10</td>\n",
       "    </tr>\n",
       "    <tr>\n",
       "      <th>4</th>\n",
       "      <td>I</td>\n",
       "      <td>0.8875</td>\n",
       "      <td>0.6625</td>\n",
       "      <td>0.2125</td>\n",
       "      <td>6.903103</td>\n",
       "      <td>3.458639</td>\n",
       "      <td>1.488349</td>\n",
       "      <td>1.700970</td>\n",
       "      <td>6</td>\n",
       "    </tr>\n",
       "  </tbody>\n",
       "</table>\n",
       "</div>"
      ],
      "text/plain": [
       "  sex  length  diameter  height     weight  shucked_weight  viscera_weight  \\\n",
       "0   F  1.4375    1.1750  0.4125  24.635715       12.332033        5.584852   \n",
       "1   M  0.8875    0.6500  0.2125   5.400580        2.296310        1.374951   \n",
       "2   I  1.0375    0.7750  0.2500   7.952035        3.231843        1.601747   \n",
       "3   F  1.1750    0.8875  0.2500  13.480187        4.748541        2.282135   \n",
       "4   I  0.8875    0.6625  0.2125   6.903103        3.458639        1.488349   \n",
       "\n",
       "   shell_weight  age  \n",
       "0      6.747181    9  \n",
       "1      1.559222    6  \n",
       "2      2.764076    6  \n",
       "3      5.244657   10  \n",
       "4      1.700970    6  "
      ]
     },
     "execution_count": 8,
     "metadata": {},
     "output_type": "execute_result"
    }
   ],
   "source": [
    "data.head()"
   ]
  },
  {
   "cell_type": "markdown",
   "id": "75c7b229",
   "metadata": {},
   "source": [
    "Посмотрим, есть ли аномальные значения и выбросы в данных."
   ]
  },
  {
   "cell_type": "code",
   "execution_count": 9,
   "id": "b652dff3",
   "metadata": {},
   "outputs": [
    {
     "data": {
      "text/plain": [
       "array(['F', 'M', 'I'], dtype=object)"
      ]
     },
     "execution_count": 9,
     "metadata": {},
     "output_type": "execute_result"
    }
   ],
   "source": [
    "data['sex'].unique()"
   ]
  },
  {
   "cell_type": "markdown",
   "id": "e2a1d290",
   "metadata": {},
   "source": [
    "F - жен\n",
    "\n",
    "M - муж\n",
    "\n",
    "I - не определено"
   ]
  },
  {
   "cell_type": "markdown",
   "id": "f57817fa",
   "metadata": {},
   "source": [
    "Можно будет ввести две фиктивные переменные в модель."
   ]
  },
  {
   "cell_type": "code",
   "execution_count": 10,
   "id": "5ef1e0f9",
   "metadata": {
    "scrolled": false
   },
   "outputs": [
    {
     "data": {
      "image/png": "[encoded data removed]",
      "text/plain": [
       "<Figure size 640x480 with 1 Axes>"
      ]
     },
     "metadata": {},
     "output_type": "display_data"
    }
   ],
   "source": [
    "sns.boxplot(data=data[col[1:]])\n",
    "plt.show()"
   ]
  },
  {
   "cell_type": "markdown",
   "id": "9bbc812e",
   "metadata": {},
   "source": [
    "Выбросы есть, значений меньше нуля, которых не должно быть нет. Почистим выбросы по межквартильному размаху."
   ]
  },
  {
   "cell_type": "code",
   "execution_count": 11,
   "id": "db2cfb0f",
   "metadata": {},
   "outputs": [],
   "source": [
    "for c in col[1:]:\n",
    "    q3 = data[c].describe()['75%']    # 75-ая квантиль\n",
    "    q1 = data[c].describe()['25%']    # 25-ая квантиль\n",
    "    iqr = q3-q1    # длина промежутка\n",
    "    iqr_min = q1 - 1.5 * iqr    # нижняя граница\n",
    "    iqr_max = q3 + 1.5 * iqr    # верхняя граница\n",
    "    data = data[(iqr_min <= data[c]) & (data[c] <= iqr_max)]    # перезаписываем датасет без выбросов"
   ]
  },
  {
   "cell_type": "code",
   "execution_count": 12,
   "id": "6094b237",
   "metadata": {},
   "outputs": [
    {
     "data": {
      "image/png": "[encoded data removed]",
      "text/plain": [
       "<Figure size 640x480 with 1 Axes>"
      ]
     },
     "metadata": {},
     "output_type": "display_data"
    }
   ],
   "source": [
    "sns.boxplot(data=data[col[1:]])\n",
    "plt.show()"
   ]
  },
  {
   "cell_type": "markdown",
   "id": "daa12f39",
   "metadata": {},
   "source": [
    "Стандартизируем количественные переменные."
   ]
  },
  {
   "cell_type": "markdown",
   "id": "b6afbbe1",
   "metadata": {},
   "source": [
    "### 2. Стандартизация."
   ]
  },
  {
   "cell_type": "code",
   "execution_count": 13,
   "id": "2b4c39bf",
   "metadata": {},
   "outputs": [],
   "source": [
    "x_c = np.array(data[col[1:-1]].copy())\n",
    "y = np.array(data['age'].copy())"
   ]
  },
  {
   "cell_type": "code",
   "execution_count": 14,
   "id": "86d99d1c",
   "metadata": {},
   "outputs": [],
   "source": [
    "# разделим выборку на тестовую и тренировочную:\n",
    "x_train, x_test, y_train, y_test = train_test_split(x_c, y, test_size=0.2, random_state=50)"
   ]
  },
  {
   "cell_type": "code",
   "execution_count": 15,
   "id": "04696ecc",
   "metadata": {},
   "outputs": [],
   "source": [
    "scaler = StandardScaler()\n",
    "x_train_st = scaler.fit_transform(x_train)\n",
    "x_test_st = scaler.fit_transform(x_test)"
   ]
  },
  {
   "cell_type": "code",
   "execution_count": 16,
   "id": "bd57bca3",
   "metadata": {},
   "outputs": [],
   "source": [
    "f = col.copy()\n",
    "del f[0]\n",
    "del f[-1]"
   ]
  },
  {
   "cell_type": "markdown",
   "id": "73fa7caf",
   "metadata": {},
   "source": [
    "### 3. Отбор факторов."
   ]
  },
  {
   "cell_type": "code",
   "execution_count": 17,
   "id": "643eaee4",
   "metadata": {},
   "outputs": [
    {
     "data": {
      "text/plain": [
       "length            0.582776\n",
       "diameter          0.601205\n",
       "height            0.610596\n",
       "weight            0.555977\n",
       "shucked_weight    0.463742\n",
       "viscera_weight    0.541703\n",
       "shell_weight      0.619616\n",
       "age               1.000000\n",
       "Name: age, dtype: float64"
      ]
     },
     "execution_count": 17,
     "metadata": {},
     "output_type": "execute_result"
    }
   ],
   "source": [
    "data.corr()['age']"
   ]
  },
  {
   "cell_type": "markdown",
   "id": "56252cad",
   "metadata": {},
   "source": [
    "Связь возраста со всеми параметрами, кроме пола, заметная. Для отбора факторов попробуем использовать пермутационную важность и значения коэффициента Шепли, думаю всё дело в стандартизации переменных. Отбор будет производиться по количественным переменным, а фиктивные переменные будут добавлены позже, чтобы проверить улучшают ли они модель."
   ]
  },
  {
   "cell_type": "code",
   "execution_count": 18,
   "id": "26f1ea47",
   "metadata": {},
   "outputs": [],
   "source": [
    "import shap"
   ]
  },
  {
   "cell_type": "code",
   "execution_count": 19,
   "id": "0e9d3460",
   "metadata": {},
   "outputs": [
    {
     "data": {
      "image/png": "[encoded data removed]",
      "text/plain": [
       "<Figure size 800x430 with 2 Axes>"
      ]
     },
     "metadata": {},
     "output_type": "display_data"
    }
   ],
   "source": [
    "model = LinearRegression()\n",
    "model.fit(x_train_st, y_train)\n",
    "\n",
    "explainer = shap.Explainer(model, x_train_st)\n",
    "shap_values = explainer(x_test_st)\n",
    "\n",
    "shap.summary_plot(shap_values, x_test_st)"
   ]
  },
  {
   "cell_type": "code",
   "execution_count": 20,
   "id": "43001560",
   "metadata": {},
   "outputs": [],
   "source": [
    "import eli5\n",
    "from eli5.sklearn import PermutationImportance"
   ]
  },
  {
   "cell_type": "code",
   "execution_count": 21,
   "id": "7c352b5d",
   "metadata": {},
   "outputs": [
    {
     "data": {
      "text/html": [
       "\n",
       "    <style>\n",
       "    table.eli5-weights tr:hover {\n",
       "        filter: brightness(85%);\n",
       "    }\n",
       "</style>\n",
       "\n",
       "\n",
       "\n",
       "    \n",
       "\n",
       "    \n",
       "\n",
       "    \n",
       "\n",
       "    \n",
       "\n",
       "    \n",
       "\n",
       "    \n",
       "\n",
       "\n",
       "    \n",
       "\n",
       "    \n",
       "\n",
       "    \n",
       "\n",
       "    \n",
       "\n",
       "    \n",
       "\n",
       "    \n",
       "\n",
       "\n",
       "    \n",
       "\n",
       "    \n",
       "\n",
       "    \n",
       "\n",
       "    \n",
       "\n",
       "    \n",
       "        <table class=\"eli5-weights eli5-feature-importances\" style=\"border-collapse: collapse; border: none; margin-top: 0em; table-layout: auto;\">\n",
       "    <thead>\n",
       "    <tr style=\"border: none;\">\n",
       "        <th style=\"padding: 0 1em 0 0.5em; text-align: right; border: none;\">Weight</th>\n",
       "        <th style=\"padding: 0 0.5em 0 0.5em; text-align: left; border: none;\">Feature</th>\n",
       "    </tr>\n",
       "    </thead>\n",
       "    <tbody>\n",
       "    \n",
       "        <tr style=\"background-color: hsl(120, 100.00%, 80.00%); border: none;\">\n",
       "            <td style=\"padding: 0 1em 0 0.5em; text-align: right; border: none;\">\n",
       "                2.5818\n",
       "                \n",
       "                    &plusmn; 0.1695\n",
       "                \n",
       "            </td>\n",
       "            <td style=\"padding: 0 0.5em 0 0.5em; text-align: left; border: none;\">\n",
       "                shucked_weight\n",
       "            </td>\n",
       "        </tr>\n",
       "    \n",
       "        <tr style=\"background-color: hsl(120, 100.00%, 85.92%); border: none;\">\n",
       "            <td style=\"padding: 0 1em 0 0.5em; text-align: right; border: none;\">\n",
       "                1.5639\n",
       "                \n",
       "                    &plusmn; 0.1322\n",
       "                \n",
       "            </td>\n",
       "            <td style=\"padding: 0 0.5em 0 0.5em; text-align: left; border: none;\">\n",
       "                weight\n",
       "            </td>\n",
       "        </tr>\n",
       "    \n",
       "        <tr style=\"background-color: hsl(120, 100.00%, 93.07%); border: none;\">\n",
       "            <td style=\"padding: 0 1em 0 0.5em; text-align: right; border: none;\">\n",
       "                0.5682\n",
       "                \n",
       "                    &plusmn; 0.1030\n",
       "                \n",
       "            </td>\n",
       "            <td style=\"padding: 0 0.5em 0 0.5em; text-align: left; border: none;\">\n",
       "                diameter\n",
       "            </td>\n",
       "        </tr>\n",
       "    \n",
       "        <tr style=\"background-color: hsl(120, 100.00%, 96.99%); border: none;\">\n",
       "            <td style=\"padding: 0 1em 0 0.5em; text-align: right; border: none;\">\n",
       "                0.1730\n",
       "                \n",
       "                    &plusmn; 0.0213\n",
       "                \n",
       "            </td>\n",
       "            <td style=\"padding: 0 0.5em 0 0.5em; text-align: left; border: none;\">\n",
       "                shell_weight\n",
       "            </td>\n",
       "        </tr>\n",
       "    \n",
       "        <tr style=\"background-color: hsl(120, 100.00%, 97.97%); border: none;\">\n",
       "            <td style=\"padding: 0 1em 0 0.5em; text-align: right; border: none;\">\n",
       "                0.0980\n",
       "                \n",
       "                    &plusmn; 0.0135\n",
       "                \n",
       "            </td>\n",
       "            <td style=\"padding: 0 0.5em 0 0.5em; text-align: left; border: none;\">\n",
       "                height\n",
       "            </td>\n",
       "        </tr>\n",
       "    \n",
       "        <tr style=\"background-color: hsl(120, 100.00%, 98.45%); border: none;\">\n",
       "            <td style=\"padding: 0 1em 0 0.5em; text-align: right; border: none;\">\n",
       "                0.0671\n",
       "                \n",
       "                    &plusmn; 0.0088\n",
       "                \n",
       "            </td>\n",
       "            <td style=\"padding: 0 0.5em 0 0.5em; text-align: left; border: none;\">\n",
       "                viscera_weight\n",
       "            </td>\n",
       "        </tr>\n",
       "    \n",
       "        <tr style=\"background-color: hsl(120, 100.00%, 99.16%); border: none;\">\n",
       "            <td style=\"padding: 0 1em 0 0.5em; text-align: right; border: none;\">\n",
       "                0.0278\n",
       "                \n",
       "                    &plusmn; 0.0214\n",
       "                \n",
       "            </td>\n",
       "            <td style=\"padding: 0 0.5em 0 0.5em; text-align: left; border: none;\">\n",
       "                length\n",
       "            </td>\n",
       "        </tr>\n",
       "    \n",
       "    \n",
       "    </tbody>\n",
       "</table>\n",
       "    \n",
       "\n",
       "    \n",
       "\n",
       "\n",
       "    \n",
       "\n",
       "    \n",
       "\n",
       "    \n",
       "\n",
       "    \n",
       "\n",
       "    \n",
       "\n",
       "    \n",
       "\n",
       "\n",
       "\n"
      ],
      "text/plain": [
       "<IPython.core.display.HTML object>"
      ]
     },
     "execution_count": 21,
     "metadata": {},
     "output_type": "execute_result"
    }
   ],
   "source": [
    "perm = PermutationImportance(model, random_state=40).fit(x_test_st, y_test)\n",
    "eli5.show_weights(perm, feature_names=f)"
   ]
  },
  {
   "cell_type": "markdown",
   "id": "762d80e1",
   "metadata": {},
   "source": [
    "Результаты совпали. Будем строить линейную модель и постепенно добавлять в нее переменные по убыванию пермутационной важности. Странно, что у фактора \"shucked weight\" самый низкий показатель коэффициента корреляцци, а влияние по Шепли и пермутационной важности на результат наибольшее."
   ]
  },
  {
   "cell_type": "markdown",
   "id": "2205674b",
   "metadata": {},
   "source": [
    "### 4. Моделирование."
   ]
  },
  {
   "cell_type": "code",
   "execution_count": 22,
   "id": "624ce3dd",
   "metadata": {},
   "outputs": [],
   "source": [
    "from sklearn.metrics import r2_score"
   ]
  },
  {
   "cell_type": "code",
   "execution_count": 23,
   "id": "0e499672",
   "metadata": {},
   "outputs": [],
   "source": [
    "a = [4, 3, 1, 6, 2, 5, 0]\n",
    "r_2 = {}"
   ]
  },
  {
   "cell_type": "code",
   "execution_count": 24,
   "id": "5c2d4649",
   "metadata": {},
   "outputs": [],
   "source": [
    "for i in range(len(a)):\n",
    "    x_tr = x_train_st[:, a[:i+1]]\n",
    "    x_t = x_test_st[:, a[:i+1]]\n",
    "    if i == 0:\n",
    "        x_tr = x_tr.reshape(x_train_st.shape[0], 1)\n",
    "        x_t = x_t.reshape(x_test_st.shape[0], 1)\n",
    "    model = LinearRegression().fit(x_tr, y_train)\n",
    "    prediction = model.predict(x_t)\n",
    "    r = r2_score(y_test, prediction)\n",
    "    r_2[a[i]] = r"
   ]
  },
  {
   "cell_type": "code",
   "execution_count": 25,
   "id": "8bca3fd8",
   "metadata": {},
   "outputs": [
    {
     "data": {
      "text/plain": [
       "{4: 0.17841681354513061,\n",
       " 3: 0.4112555463325228,\n",
       " 1: 0.45292597447017535,\n",
       " 6: 0.4659739377446661,\n",
       " 2: 0.47983547836902785,\n",
       " 5: 0.4758050216501998,\n",
       " 0: 0.47522090352214996}"
      ]
     },
     "execution_count": 25,
     "metadata": {},
     "output_type": "execute_result"
    }
   ],
   "source": [
    "r_2"
   ]
  },
  {
   "cell_type": "markdown",
   "id": "ed60b296",
   "metadata": {},
   "source": [
    "Итак, при включении в модель по порядку факторов сначала коэффициент детерминации увеличивается, а потом начинает снижаться. Пока наилучшей оделью явялется модель, включающая в качестве факторов:\n",
    "1. shucked weight - вес оставшийся\n",
    "2. weight - вес (общий)\n",
    "3. diameter - диаметр\n",
    "4. shell weight - масса панциря\n",
    "5. height - высота"
   ]
  },
  {
   "cell_type": "markdown",
   "id": "afe4dcb9",
   "metadata": {},
   "source": [
    "Посмотрим, какие результаты дадут модели, включающие только по одному фактору."
   ]
  },
  {
   "cell_type": "code",
   "execution_count": 26,
   "id": "e5e6fb19",
   "metadata": {},
   "outputs": [],
   "source": [
    "for i in range(len(a)):\n",
    "    x_tr = x_train_st[:, a[i]]\n",
    "    x_t = x_test_st[:, a[i]]\n",
    "    x_tr = x_tr.reshape(x_train_st.shape[0], 1)\n",
    "    x_t = x_t.reshape(x_test_st.shape[0], 1)\n",
    "    model = LinearRegression().fit(x_tr, y_train)\n",
    "    prediction = model.predict(x_t)\n",
    "    r = r2_score(y_test, prediction)\n",
    "    r_2[f[a[i]]] = r"
   ]
  },
  {
   "cell_type": "code",
   "execution_count": 27,
   "id": "6254490d",
   "metadata": {},
   "outputs": [
    {
     "data": {
      "text/plain": [
       "{4: 0.17841681354513061,\n",
       " 3: 0.4112555463325228,\n",
       " 1: 0.45292597447017535,\n",
       " 6: 0.4659739377446661,\n",
       " 2: 0.47983547836902785,\n",
       " 5: 0.4758050216501998,\n",
       " 0: 0.47522090352214996,\n",
       " 'shucked_weight': 0.17841681354513061,\n",
       " 'weight': 0.2780497428325035,\n",
       " 'diameter': 0.3289285974603474,\n",
       " 'shell_weight': 0.3574382782893334,\n",
       " 'height': 0.3570669502006606,\n",
       " 'viscera_weight': 0.28380809190324774,\n",
       " 'length': 0.3156234829142842}"
      ]
     },
     "execution_count": 27,
     "metadata": {},
     "output_type": "execute_result"
    }
   ],
   "source": [
    "r_2"
   ]
  },
  {
   "cell_type": "markdown",
   "id": "91676e2b",
   "metadata": {},
   "source": [
    "Тут результаты уже ниже, поэтому данные модели нам не нужны, так как целью является построение моедли, которая наилучшим образом описывает результат."
   ]
  },
  {
   "cell_type": "markdown",
   "id": "e30cb8db",
   "metadata": {},
   "source": [
    "Что если попробовать все возможные комбинации факторов?"
   ]
  },
  {
   "cell_type": "code",
   "execution_count": 28,
   "id": "d75fc49d",
   "metadata": {},
   "outputs": [],
   "source": [
    "from itertools import chain, combinations\n",
    "\n",
    "def powerset(iterable):\n",
    "    \"powerset([1,2,3]) --> () (1,) (2,) (3,) (1,2) (1,3) (2,3) (1,2,3)\"\n",
    "    s = list(iterable)\n",
    "    return chain.from_iterable(list(combinations(s, r)) for r in range(len(s)+1))"
   ]
  },
  {
   "cell_type": "code",
   "execution_count": 29,
   "id": "7e850dac",
   "metadata": {},
   "outputs": [],
   "source": [
    "s = list(powerset(a))"
   ]
  },
  {
   "cell_type": "code",
   "execution_count": 30,
   "id": "58f0b77c",
   "metadata": {},
   "outputs": [],
   "source": [
    "for i in range(1, len(s)):\n",
    "    j = list(s[i])\n",
    "    if j == a[:len(j)]:\n",
    "        continue\n",
    "    x_tr = x_train_st[:, j]\n",
    "    x_t = x_test_st[:, j]\n",
    "    if len(j) == 1:\n",
    "        x_tr = x_tr.reshape(x_train_st.shape[0], 1)\n",
    "        x_t = x_t.reshape(x_test_st.shape[0], 1)\n",
    "    model = LinearRegression().fit(x_tr, y_train)\n",
    "    prediction = model.predict(x_t)\n",
    "    r = r2_score(y_test, prediction)\n",
    "    r_2[f'{i}'] = r"
   ]
  },
  {
   "cell_type": "code",
   "execution_count": 31,
   "id": "22a07fe8",
   "metadata": {},
   "outputs": [
    {
     "data": {
      "text/plain": [
       "(2, 0.47983547836902785)"
      ]
     },
     "execution_count": 31,
     "metadata": {},
     "output_type": "execute_result"
    }
   ],
   "source": [
    "sorted(r_2.items(), key=lambda x:x[1], reverse=True)[0]"
   ]
  },
  {
   "cell_type": "markdown",
   "id": "681d4633",
   "metadata": {},
   "source": [
    "Наилучшая модель не изменилась."
   ]
  },
  {
   "cell_type": "markdown",
   "id": "c41ca26a",
   "metadata": {},
   "source": [
    "### 5. Модели с фиктивными переменными."
   ]
  },
  {
   "cell_type": "markdown",
   "id": "223263f1",
   "metadata": {},
   "source": [
    "Попробуем улучшить наилучшую модель, полученную выше, при помощи введения фиктивных переменных (пол). Будет введено две фиктивных переменных, так как уникальных значений пола в датасете три."
   ]
  },
  {
   "cell_type": "code",
   "execution_count": 32,
   "id": "f2a1fdc8",
   "metadata": {},
   "outputs": [],
   "source": [
    "f = [4, 3, 1, 6, 2]"
   ]
  },
  {
   "cell_type": "markdown",
   "id": "26268fb8",
   "metadata": {},
   "source": [
    "а) Модель с фиктивными переменными сдвига:"
   ]
  },
  {
   "cell_type": "code",
   "execution_count": 33,
   "id": "15a86289",
   "metadata": {},
   "outputs": [],
   "source": [
    "data['F'] = data['sex'].map({'F': 1, 'M': 0, 'I': 0})\n",
    "data['M'] = data['sex'].map({'F': 0, 'M': 1, 'I': 0})\n",
    "\n",
    "x_f = np.array(data[['F', 'M']].copy())\n",
    "x_f_train, x_f_test, y_train, y_test = train_test_split(x_f, y, test_size=0.2, random_state=50)\n",
    "\n",
    "xx = x_c[:, f]\n",
    "x_train, x_test, y_train, y_test = train_test_split(xx, y, test_size=0.2, random_state=50)\n",
    "scaler = StandardScaler()\n",
    "x_train_st = scaler.fit_transform(x_train)\n",
    "x_test_st = scaler.fit_transform(x_test)\n",
    "\n",
    "x_train = np.concatenate((x_train_st, x_f_train), axis=1)\n",
    "x_test = np.concatenate((x_test_st, x_f_test), axis=1)"
   ]
  },
  {
   "cell_type": "code",
   "execution_count": 34,
   "id": "33b7fa17",
   "metadata": {},
   "outputs": [],
   "source": [
    "model = LinearRegression().fit(x_train, y_train)\n",
    "prediction = model.predict(x_test)\n",
    "r = r2_score(y_test, prediction)\n",
    "r_2['сдвиг'] = r"
   ]
  },
  {
   "cell_type": "code",
   "execution_count": 35,
   "id": "4dde6b46",
   "metadata": {},
   "outputs": [
    {
     "data": {
      "text/plain": [
       "True"
      ]
     },
     "execution_count": 35,
     "metadata": {},
     "output_type": "execute_result"
    }
   ],
   "source": [
    "r > r_2[2]"
   ]
  },
  {
   "cell_type": "markdown",
   "id": "6a06cbef",
   "metadata": {},
   "source": [
    "Уровень объясненности модели повысился."
   ]
  },
  {
   "cell_type": "code",
   "execution_count": 36,
   "id": "acff1ddd",
   "metadata": {},
   "outputs": [
    {
     "data": {
      "text/plain": [
       "0.5093099774932068"
      ]
     },
     "execution_count": 36,
     "metadata": {},
     "output_type": "execute_result"
    }
   ],
   "source": [
    "r"
   ]
  },
  {
   "cell_type": "markdown",
   "id": "f094dba4",
   "metadata": {},
   "source": [
    "b) Модель с фиктивными переменными наклона:"
   ]
  },
  {
   "cell_type": "code",
   "execution_count": 37,
   "id": "3d0e6dfe",
   "metadata": {},
   "outputs": [],
   "source": [
    "df = data[['shucked_weight', 'weight', 'shell_weight', 'height', 'length', 'F', 'M', 'age']].copy()"
   ]
  },
  {
   "cell_type": "code",
   "execution_count": 38,
   "id": "1f722347",
   "metadata": {},
   "outputs": [],
   "source": [
    "for c in list(df.columns)[:-3]:\n",
    "    df[f'{c}*F'] = df[c] * df['F']\n",
    "    df[f'{c}*M'] = df[c] * df['M']"
   ]
  },
  {
   "cell_type": "code",
   "execution_count": 39,
   "id": "861a25a7",
   "metadata": {},
   "outputs": [],
   "source": [
    "xx = x_c[:, f]\n",
    "x_train, x_test, y_train, y_test = train_test_split(xx, y, test_size=0.2, random_state=50)\n",
    "scaler = StandardScaler()\n",
    "x_train_st = scaler.fit_transform(x_train)\n",
    "x_test_st = scaler.fit_transform(x_test)\n",
    "\n",
    "x_f = np.array(df[df.columns[8:]].copy())\n",
    "x_f_train, x_f_test, y_train, y_test = train_test_split(x_f, y, test_size=0.2, random_state=50)\n",
    "\n",
    "x_train = np.concatenate((x_train_st, x_f_train), axis=1)\n",
    "x_test = np.concatenate((x_test_st, x_f_test), axis=1)"
   ]
  },
  {
   "cell_type": "code",
   "execution_count": 40,
   "id": "6d9361e8",
   "metadata": {},
   "outputs": [],
   "source": [
    "model = LinearRegression().fit(x_train, y_train)\n",
    "prediction = model.predict(x_test)\n",
    "r = r2_score(y_test, prediction)\n",
    "r_2['наклон'] = r"
   ]
  },
  {
   "cell_type": "code",
   "execution_count": 41,
   "id": "e7007a43",
   "metadata": {},
   "outputs": [
    {
     "data": {
      "text/plain": [
       "True"
      ]
     },
     "execution_count": 41,
     "metadata": {},
     "output_type": "execute_result"
    }
   ],
   "source": [
    "r_2['наклон'] > r_2['сдвиг']"
   ]
  },
  {
   "cell_type": "code",
   "execution_count": 42,
   "id": "6861eca0",
   "metadata": {},
   "outputs": [
    {
     "data": {
      "text/plain": [
       "0.5259308374952363"
      ]
     },
     "execution_count": 42,
     "metadata": {},
     "output_type": "execute_result"
    }
   ],
   "source": [
    "r"
   ]
  },
  {
   "cell_type": "markdown",
   "id": "121f2df9",
   "metadata": {},
   "source": [
    "Модель еще улучшилась."
   ]
  },
  {
   "cell_type": "markdown",
   "id": "9d31bf77",
   "metadata": {},
   "source": [
    "с) Модель с фиктивными переменными в общем виде:"
   ]
  },
  {
   "cell_type": "code",
   "execution_count": 43,
   "id": "ded99417",
   "metadata": {},
   "outputs": [],
   "source": [
    "xx = x_c[:, f]\n",
    "x_train, x_test, y_train, y_test = train_test_split(xx, y, test_size=0.2, random_state=50)\n",
    "scaler = StandardScaler()\n",
    "x_train_st = scaler.fit_transform(x_train)\n",
    "x_test_st = scaler.fit_transform(x_test)\n",
    "\n",
    "x_f = np.array(df[['F', 'M']].copy())\n",
    "x_f = np.concatenate((x_f, np.array(df[df.columns[8:]].copy())), axis=1)\n",
    "x_f_train, x_f_test, y_train, y_test = train_test_split(x_f, y, test_size=0.2, random_state=50)\n",
    "\n",
    "x_train = np.concatenate((x_train_st, x_f_train), axis=1)\n",
    "x_test = np.concatenate((x_test_st, x_f_test), axis=1)"
   ]
  },
  {
   "cell_type": "code",
   "execution_count": 44,
   "id": "8f671e77",
   "metadata": {},
   "outputs": [],
   "source": [
    "model = LinearRegression().fit(x_train, y_train)\n",
    "prediction = model.predict(x_test)\n",
    "r = r2_score(y_test, prediction)\n",
    "r_2['общий'] = r"
   ]
  },
  {
   "cell_type": "code",
   "execution_count": 45,
   "id": "561777e9",
   "metadata": {},
   "outputs": [
    {
     "data": {
      "text/plain": [
       "True"
      ]
     },
     "execution_count": 45,
     "metadata": {},
     "output_type": "execute_result"
    }
   ],
   "source": [
    "r_2['общий'] > r_2['наклон']"
   ]
  },
  {
   "cell_type": "code",
   "execution_count": 46,
   "id": "0ead3034",
   "metadata": {},
   "outputs": [
    {
     "data": {
      "text/plain": [
       "0.5349795110406586"
      ]
     },
     "execution_count": 46,
     "metadata": {},
     "output_type": "execute_result"
    }
   ],
   "source": [
    "r_2['общий']"
   ]
  },
  {
   "cell_type": "markdown",
   "id": "42794689",
   "metadata": {},
   "source": [
    "На данный момент лучшей является модель линейной регрессии с фиктивными перемынными в общем виде, которая выглядит следубщим образом:\n",
    "\n",
    "y = b0 + b1\\*x1 + ... + bn\\*xn + c1\\*z1 + ... + cm\\*zm + d11\\*x1\\*z1 + ... + d1n\\*xn\\*z1 + d21\\*x1\\*z2 + ... + dmn\\*xn\\*zm + E"
   ]
  },
  {
   "cell_type": "markdown",
   "id": "39a7c045",
   "metadata": {},
   "source": [
    "### 6. PCA."
   ]
  },
  {
   "cell_type": "code",
   "execution_count": 47,
   "id": "8eef8de7",
   "metadata": {},
   "outputs": [],
   "source": [
    "from sklearn.decomposition import PCA"
   ]
  },
  {
   "cell_type": "code",
   "execution_count": 48,
   "id": "072f6ba9",
   "metadata": {},
   "outputs": [],
   "source": [
    "r = []\n",
    "for i in range(1, len(f)):\n",
    "    x_train, x_test, y_train, y_test = train_test_split(x_c[:, f], y, test_size=0.2, random_state=50)\n",
    "    scaler = StandardScaler()\n",
    "    x_train_st = scaler.fit_transform(x_train)\n",
    "    x_test_st = scaler.fit_transform(x_test)\n",
    "    \n",
    "    pca = PCA(n_components=i, whiten=True)\n",
    "    pca = pca.fit(x_train_st)\n",
    "    x_train = pca.transform(x_train_st)\n",
    "    x_test = pca.transform(x_test_st)\n",
    "    \n",
    "    model = LinearRegression()\n",
    "    model.fit(x_train, y_train)\n",
    "    prediction = model.predict(x_test)\n",
    "    r.append(r2_score(y_test, prediction))"
   ]
  },
  {
   "cell_type": "code",
   "execution_count": 49,
   "id": "771eaec2",
   "metadata": {},
   "outputs": [
    {
     "data": {
      "text/plain": [
       "[0.3174145870339333,\n",
       " 0.4158266121115868,\n",
       " 0.4672503022583251,\n",
       " 0.46972147204048154]"
      ]
     },
     "execution_count": 49,
     "metadata": {},
     "output_type": "execute_result"
    }
   ],
   "source": [
    "r"
   ]
  },
  {
   "cell_type": "code",
   "execution_count": 50,
   "id": "73b88969",
   "metadata": {},
   "outputs": [],
   "source": [
    "r = {}\n",
    "for i in range(1, 7):\n",
    "    x_train, x_test, y_train, y_test = train_test_split(x_c[:, a], y, test_size=0.2, random_state=50)\n",
    "    \n",
    "    pca = PCA(n_components=i, whiten=True)\n",
    "    pca = pca.fit(x_train)\n",
    "    x_train = pca.transform(x_train)\n",
    "    x_test = pca.transform(x_test)\n",
    "    \n",
    "    model = LinearRegression()\n",
    "    model.fit(x_train, y_train)\n",
    "    prediction = model.predict(x_test)\n",
    "    r[i] = r2_score(y_test, prediction)"
   ]
  },
  {
   "cell_type": "code",
   "execution_count": 51,
   "id": "d903ccca",
   "metadata": {},
   "outputs": [
    {
     "data": {
      "text/plain": [
       "{1: 0.26939721390945925,\n",
       " 2: 0.4434240068715317,\n",
       " 3: 0.4413535681544565,\n",
       " 4: 0.44093921065398634,\n",
       " 5: 0.46318613270378906,\n",
       " 6: 0.47768812290066986}"
      ]
     },
     "execution_count": 51,
     "metadata": {},
     "output_type": "execute_result"
    }
   ],
   "source": [
    "r"
   ]
  },
  {
   "cell_type": "markdown",
   "id": "73d1acc3",
   "metadata": {},
   "source": [
    "### 7. Нелинейные модели."
   ]
  },
  {
   "cell_type": "markdown",
   "id": "3f5358de",
   "metadata": {},
   "source": [
    "Гипербола"
   ]
  },
  {
   "cell_type": "code",
   "execution_count": 52,
   "id": "943e0807",
   "metadata": {},
   "outputs": [
    {
     "data": {
      "text/plain": [
       "0"
      ]
     },
     "execution_count": 52,
     "metadata": {},
     "output_type": "execute_result"
    }
   ],
   "source": [
    "(x_c == 0).sum()"
   ]
  },
  {
   "cell_type": "code",
   "execution_count": 53,
   "id": "3c7d3278",
   "metadata": {},
   "outputs": [
    {
     "name": "stdout",
     "output_type": "stream",
     "text": [
      "Коэффициент детерминации (R^2): 0.45248533084225606\n"
     ]
    }
   ],
   "source": [
    "hip_model = LinearRegression()\n",
    "x_hip = 1 / x_c    # независимые переменные\n",
    "# зависимая переменная остается такой же\n",
    "x_train, x_test, y_train, y_test = train_test_split(x_hip, y, test_size=0.2, random_state=40)\n",
    "scaler = StandardScaler()\n",
    "x_train_st = scaler.fit_transform(x_train)\n",
    "x_test_st = scaler.fit_transform(x_test)\n",
    "\n",
    "hip_model.fit(x_train_st, y_train)\n",
    "y_pred = hip_model.predict(x_test_st)\n",
    "r2_hip = r2_score(y_test, y_pred)\n",
    "print(\"Коэффициент детерминации (R^2):\", r2_hip)"
   ]
  },
  {
   "cell_type": "markdown",
   "id": "f77ed254",
   "metadata": {},
   "source": [
    "Полулогарифмическая"
   ]
  },
  {
   "cell_type": "code",
   "execution_count": 54,
   "id": "345df1fd",
   "metadata": {},
   "outputs": [
    {
     "data": {
      "text/plain": [
       "0"
      ]
     },
     "execution_count": 54,
     "metadata": {},
     "output_type": "execute_result"
    }
   ],
   "source": [
    "(x_c <= 0).sum()"
   ]
  },
  {
   "cell_type": "code",
   "execution_count": 55,
   "id": "2f54a1ad",
   "metadata": {},
   "outputs": [
    {
     "name": "stdout",
     "output_type": "stream",
     "text": [
      "Коэффициент детерминации (R^2): 0.41811709998482305\n"
     ]
    }
   ],
   "source": [
    "log_model = LinearRegression()\n",
    "x = np.log(x_c)    # независимые переменные\n",
    "# зависимая переменная остается такой же\n",
    "x_train, x_test, y_train, y_test = train_test_split(x, y, test_size=0.33, random_state=42)\n",
    "scaler = StandardScaler()\n",
    "x_train_st = scaler.fit_transform(x_train)\n",
    "x_test_st = scaler.fit_transform(x_test)\n",
    "\n",
    "log_model.fit(x_train_st, y_train)\n",
    "y_pred = log_model.predict(x_test_st)\n",
    "r2 = r2_score(y_test, y_pred)\n",
    "print(\"Коэффициент детерминации (R^2):\", r2)"
   ]
  },
  {
   "cell_type": "markdown",
   "id": "64efc7ff",
   "metadata": {},
   "source": [
    "Парабола"
   ]
  },
  {
   "cell_type": "code",
   "execution_count": 56,
   "id": "43759623",
   "metadata": {},
   "outputs": [
    {
     "name": "stdout",
     "output_type": "stream",
     "text": [
      "Коэффициент детерминации (R^2): 0.5348591395682669\n"
     ]
    }
   ],
   "source": [
    "x_p = x_c ** 2\n",
    "x_par = np.array(np.concatenate((x_c, x_p), axis=1)) # независимые переменные\n",
    "for i in range(7):\n",
    "    for j in range(i+1, 7):\n",
    "        x_par = np.array(np.concatenate((x_par, (x_c[:, i] * x_c[:, j]).reshape(3522, 1)), axis=1))\n",
    "par_model = LinearRegression()\n",
    "x_train, x_test, y_train, y_test = train_test_split(x_par, y, test_size=0.2, random_state=40)\n",
    "scaler = StandardScaler()\n",
    "x_train_st = scaler.fit_transform(x_train)\n",
    "x_test_st = scaler.fit_transform(x_test)\n",
    "\n",
    "par_model.fit(x_train_st, y_train)\n",
    "y_pred = par_model.predict(x_test_st)\n",
    "r2_par = r2_score(y_test, y_pred)\n",
    "print(\"Коэффициент детерминации (R^2):\", r2_par)"
   ]
  },
  {
   "cell_type": "markdown",
   "id": "ce6f9fb0",
   "metadata": {},
   "source": [
    "Показательная"
   ]
  },
  {
   "cell_type": "code",
   "execution_count": 57,
   "id": "5262b121",
   "metadata": {},
   "outputs": [
    {
     "data": {
      "text/plain": [
       "0"
      ]
     },
     "execution_count": 57,
     "metadata": {},
     "output_type": "execute_result"
    }
   ],
   "source": [
    "(y <= 0).sum()"
   ]
  },
  {
   "cell_type": "code",
   "execution_count": 58,
   "id": "4f832a0a",
   "metadata": {},
   "outputs": [
    {
     "name": "stdout",
     "output_type": "stream",
     "text": [
      "Коэффициент детерминации (R^2): 0.49965581117590374\n"
     ]
    }
   ],
   "source": [
    "pok_model = LinearRegression()\n",
    "y_pok = np.log(y)    # зависимая переменная\n",
    "x_train, x_test, y_train, y_test = train_test_split(x_c, y_pok, test_size=0.33, random_state=42)\n",
    "scaler = StandardScaler()\n",
    "x_train_st = scaler.fit_transform(x_train)\n",
    "x_test_st = scaler.fit_transform(x_test)\n",
    "\n",
    "pok_model.fit(x_train_st, y_train)\n",
    "y_pred = pok_model.predict(x_test_st)\n",
    "r2 = r2_score(y_test, y_pred)\n",
    "print(\"Коэффициент детерминации (R^2):\", r2)"
   ]
  },
  {
   "cell_type": "markdown",
   "id": "8b34b39b",
   "metadata": {},
   "source": [
    "Степенная"
   ]
  },
  {
   "cell_type": "code",
   "execution_count": 59,
   "id": "95c94228",
   "metadata": {},
   "outputs": [
    {
     "name": "stdout",
     "output_type": "stream",
     "text": [
      "Коэффициент детерминации (R^2): 0.49772162926424623\n"
     ]
    }
   ],
   "source": [
    "st_model = LinearRegression()\n",
    "x_st = np.log(x_c)    # независимые переменные\n",
    "y_st = np.log(y)    # зависимая переменная\n",
    "x_train, x_test, y_train, y_test = train_test_split(x_st, y_st, test_size=0.33, random_state=42)\n",
    "scaler = StandardScaler()\n",
    "x_train_st = scaler.fit_transform(x_train)\n",
    "x_test_st = scaler.fit_transform(x_test)\n",
    "\n",
    "st_model.fit(x_train_st, y_train)\n",
    "y_pred = st_model.predict(x_test_st)\n",
    "r2 = r2_score(y_test, y_pred)\n",
    "print(\"Коэффициент детерминации (R^2):\", r2)"
   ]
  },
  {
   "cell_type": "markdown",
   "id": "92d2ddad",
   "metadata": {},
   "source": [
    "Параболическая модель показала больший уровень объяснения (при условии, что мы берем все семь количественных переменных со стандартизацией). Попробуем улучшить уравнение параболы фиктивными переменными."
   ]
  },
  {
   "cell_type": "markdown",
   "id": "07bf329c",
   "metadata": {},
   "source": [
    "a) фиктивные переменные сдвига:"
   ]
  },
  {
   "cell_type": "code",
   "execution_count": 60,
   "id": "69077e4a",
   "metadata": {},
   "outputs": [
    {
     "name": "stdout",
     "output_type": "stream",
     "text": [
      "Коэффициент детерминации (R^2): 0.5546833788462836\n"
     ]
    }
   ],
   "source": [
    "data['F'] = data['sex'].map({'F': 1, 'M': 0, 'I': 0})\n",
    "data['M'] = data['sex'].map({'F': 0, 'M': 1, 'I': 0})\n",
    "\n",
    "x_f = np.array(data[['F', 'M']].copy())\n",
    "x_f_train, x_f_test, y_train, y_test = train_test_split(x_f, y, test_size=0.2, random_state=50)\n",
    "\n",
    "xx = x_par\n",
    "x_train, x_test, y_train, y_test = train_test_split(xx, y, test_size=0.2, random_state=50)\n",
    "scaler = StandardScaler()\n",
    "x_train_st = scaler.fit_transform(x_train)\n",
    "x_test_st = scaler.fit_transform(x_test)\n",
    "\n",
    "x_train = np.concatenate((x_train_st, x_f_train), axis=1)\n",
    "x_test = np.concatenate((x_test_st, x_f_test), axis=1)\n",
    "\n",
    "model = LinearRegression()\n",
    "model.fit(x_train, y_train)\n",
    "y_pred = model.predict(x_test)\n",
    "r2_par = r2_score(y_test, y_pred)\n",
    "print(\"Коэффициент детерминации (R^2):\", r2_par)"
   ]
  },
  {
   "cell_type": "markdown",
   "id": "e7be4d19",
   "metadata": {},
   "source": [
    "b) фиктивные переменные поворота:"
   ]
  },
  {
   "cell_type": "code",
   "execution_count": 70,
   "id": "2c5b22ce",
   "metadata": {},
   "outputs": [],
   "source": [
    "df = pd.DataFrame(x_par)\n",
    "df['F'] = np.array(data['F'])\n",
    "df['M'] = np.array(data['M'])"
   ]
  },
  {
   "cell_type": "code",
   "execution_count": 72,
   "id": "2d1062ed",
   "metadata": {},
   "outputs": [],
   "source": [
    "for c in list(df.columns)[:-2]:\n",
    "    df[f'{c}*F'] = df[c] * df['F']\n",
    "    df[f'{c}*M'] = df[c] * df['M']"
   ]
  },
  {
   "cell_type": "code",
   "execution_count": 75,
   "id": "4ef15df7",
   "metadata": {},
   "outputs": [
    {
     "name": "stdout",
     "output_type": "stream",
     "text": [
      "Коэффициент детерминации (R^2): 0.5426364401398394\n"
     ]
    }
   ],
   "source": [
    "xx = x_par\n",
    "x_train, x_test, y_train, y_test = train_test_split(xx, y, test_size=0.2, random_state=50)\n",
    "scaler = StandardScaler()\n",
    "x_train_st = scaler.fit_transform(x_train)\n",
    "x_test_st = scaler.fit_transform(x_test)\n",
    "\n",
    "x_f = np.array(df[df.columns[37:]].copy())\n",
    "x_f_train, x_f_test, y_train, y_test = train_test_split(x_f, y, test_size=0.2, random_state=50)\n",
    "\n",
    "x_train = np.concatenate((x_train_st, x_f_train), axis=1)\n",
    "x_test = np.concatenate((x_test_st, x_f_test), axis=1)\n",
    "\n",
    "model = LinearRegression()\n",
    "model.fit(x_train, y_train)\n",
    "y_pred = model.predict(x_test)\n",
    "r2_par = r2_score(y_test, y_pred)\n",
    "print(\"Коэффициент детерминации (R^2):\", r2_par)"
   ]
  },
  {
   "cell_type": "markdown",
   "id": "fcdc3047",
   "metadata": {},
   "source": [
    "c) фиктивные переменные общего вида:"
   ]
  },
  {
   "cell_type": "code",
   "execution_count": 76,
   "id": "df994211",
   "metadata": {},
   "outputs": [
    {
     "name": "stdout",
     "output_type": "stream",
     "text": [
      "Коэффициент детерминации (R^2): 0.542818324391026\n"
     ]
    }
   ],
   "source": [
    "xx = x_par\n",
    "x_train, x_test, y_train, y_test = train_test_split(xx, y, test_size=0.2, random_state=50)\n",
    "scaler = StandardScaler()\n",
    "x_train_st = scaler.fit_transform(x_train)\n",
    "x_test_st = scaler.fit_transform(x_test)\n",
    "\n",
    "x_f = np.array(df[df.columns[35:]].copy())\n",
    "x_f_train, x_f_test, y_train, y_test = train_test_split(x_f, y, test_size=0.2, random_state=50)\n",
    "\n",
    "x_train = np.concatenate((x_train_st, x_f_train), axis=1)\n",
    "x_test = np.concatenate((x_test_st, x_f_test), axis=1)\n",
    "\n",
    "model = LinearRegression()\n",
    "model.fit(x_train, y_train)\n",
    "y_pred = model.predict(x_test)\n",
    "r2_par = r2_score(y_test, y_pred)\n",
    "print(\"Коэффициент детерминации (R^2):\", r2_par)"
   ]
  },
  {
   "cell_type": "markdown",
   "id": "e2d03490",
   "metadata": {},
   "source": [
    "Парабола с фиктивными переменными сдвига является моделью с наибольшим процентом объяснения: коэффициент детерминации равен примерно 0,5547."
   ]
  }
 ],
 "metadata": {
  "kernelspec": {
   "display_name": "Python 3 (ipykernel)",
   "language": "python",
   "name": "python3"
  },
  "language_info": {
   "codemirror_mode": {
    "name": "ipython",
    "version": 3
   },
   "file_extension": ".py",
   "mimetype": "text/x-python",
   "name": "python",
   "nbconvert_exporter": "python",
   "pygments_lexer": "ipython3",
   "version": "3.9.13"
  }
 },
 "nbformat": 4,
 "nbformat_minor": 5
}
